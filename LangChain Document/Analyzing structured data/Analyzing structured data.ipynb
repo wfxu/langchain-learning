{
 "cells": [
  {
   "attachments": {},
   "cell_type": "markdown",
   "metadata": {},
   "source": [
    "# [Analyzing structured data](https://python.langchain.com/docs/use_cases/tabular.html)\n",
    "\n",
    "表格数据处理工具集"
   ]
  },
  {
   "attachments": {},
   "cell_type": "markdown",
   "metadata": {},
   "source": [
    "## Document loading\n",
    "\n",
    "存储在文档中的表格数据一般处理方式是以 [CSVLoader](https://python.langchain.com/docs/modules/data_connection/document_loaders/how_to/csv.html) 方式加载数据然后创建索引，最后再检索数据。"
   ]
  },
  {
   "attachments": {},
   "cell_type": "markdown",
   "metadata": {},
   "source": [
    "### [Data connection](https://python.langchain.com/docs/modules/data_connection)\n",
    "\n",
    "解决不同数据处理需求的模块\n",
    "\n",
    "- [Document loaders](https://python.langchain.com/docs/modules/data_connection/document_loaders/): 加载不同数据源\n",
    "- [Document transformers](https://python.langchain.com/docs/modules/data_connection/document_transformers/): 拆分文档、删除多余部分等等\n",
    "- [Text embedding models](https://python.langchain.com/docs/modules/data_connection/text_embedding/): 将非结构化的文档转化成数字\n",
    "- [Vector stores](https://python.langchain.com/docs/modules/data_connection/vectorstores/): 以向量数据的形式存储和查询\n",
    "- [Retrievers](https://python.langchain.com/docs/modules/data_connection/retrievers/): 按需求查询数据"
   ]
  },
  {
   "attachments": {},
   "cell_type": "markdown",
   "metadata": {},
   "source": [
    "#### Document loaders\n",
    "\n",
    "将不同源数据加载进来作为“文档”，然后通过`load`的方法将数据加载到内存中。"
   ]
  },
  {
   "cell_type": "code",
   "execution_count": 5,
   "metadata": {},
   "outputs": [
    {
     "data": {
      "text/plain": [
       "[Document(page_content='# LangChain 官方文档\\n\\n来自[LangChain](https://python.langchain.com/en/latest/index.html)的官方文档。\\n', metadata={'source': './README.md'})]"
      ]
     },
     "execution_count": 5,
     "metadata": {},
     "output_type": "execute_result"
    }
   ],
   "source": [
    "from langchain.document_loaders import TextLoader\n",
    "\n",
    "loader = TextLoader(\"./README.md\")\n",
    "loader.load()"
   ]
  },
  {
   "cell_type": "code",
   "execution_count": 1,
   "metadata": {},
   "outputs": [
    {
     "name": "stdout",
     "output_type": "stream",
     "text": [
      "[Document(page_content='Team: Nationals\\n\"Payroll (millions)\": 81.34\\n\"Wins\": 98', metadata={'source': './example_data/mlb_teams_2012.csv', 'row': 0}), Document(page_content='Team: Reds\\n\"Payroll (millions)\": 82.20\\n\"Wins\": 97', metadata={'source': './example_data/mlb_teams_2012.csv', 'row': 1}), Document(page_content='Team: Yankees\\n\"Payroll (millions)\": 197.96\\n\"Wins\": 95', metadata={'source': './example_data/mlb_teams_2012.csv', 'row': 2}), Document(page_content='Team: Giants\\n\"Payroll (millions)\": 117.62\\n\"Wins\": 94', metadata={'source': './example_data/mlb_teams_2012.csv', 'row': 3}), Document(page_content='Team: Braves\\n\"Payroll (millions)\": 83.31\\n\"Wins\": 94', metadata={'source': './example_data/mlb_teams_2012.csv', 'row': 4}), Document(page_content='Team: Athletics\\n\"Payroll (millions)\": 55.37\\n\"Wins\": 94', metadata={'source': './example_data/mlb_teams_2012.csv', 'row': 5}), Document(page_content='Team: Rangers\\n\"Payroll (millions)\": 120.51\\n\"Wins\": 93', metadata={'source': './example_data/mlb_teams_2012.csv', 'row': 6}), Document(page_content='Team: Orioles\\n\"Payroll (millions)\": 81.43\\n\"Wins\": 93', metadata={'source': './example_data/mlb_teams_2012.csv', 'row': 7}), Document(page_content='Team: Rays\\n\"Payroll (millions)\": 64.17\\n\"Wins\": 90', metadata={'source': './example_data/mlb_teams_2012.csv', 'row': 8}), Document(page_content='Team: Angels\\n\"Payroll (millions)\": 154.49\\n\"Wins\": 89', metadata={'source': './example_data/mlb_teams_2012.csv', 'row': 9}), Document(page_content='Team: Tigers\\n\"Payroll (millions)\": 132.30\\n\"Wins\": 88', metadata={'source': './example_data/mlb_teams_2012.csv', 'row': 10}), Document(page_content='Team: Cardinals\\n\"Payroll (millions)\": 110.30\\n\"Wins\": 88', metadata={'source': './example_data/mlb_teams_2012.csv', 'row': 11}), Document(page_content='Team: Dodgers\\n\"Payroll (millions)\": 95.14\\n\"Wins\": 86', metadata={'source': './example_data/mlb_teams_2012.csv', 'row': 12}), Document(page_content='Team: White Sox\\n\"Payroll (millions)\": 96.92\\n\"Wins\": 85', metadata={'source': './example_data/mlb_teams_2012.csv', 'row': 13}), Document(page_content='Team: Brewers\\n\"Payroll (millions)\": 97.65\\n\"Wins\": 83', metadata={'source': './example_data/mlb_teams_2012.csv', 'row': 14}), Document(page_content='Team: Phillies\\n\"Payroll (millions)\": 174.54\\n\"Wins\": 81', metadata={'source': './example_data/mlb_teams_2012.csv', 'row': 15}), Document(page_content='Team: Diamondbacks\\n\"Payroll (millions)\": 74.28\\n\"Wins\": 81', metadata={'source': './example_data/mlb_teams_2012.csv', 'row': 16}), Document(page_content='Team: Pirates\\n\"Payroll (millions)\": 63.43\\n\"Wins\": 79', metadata={'source': './example_data/mlb_teams_2012.csv', 'row': 17}), Document(page_content='Team: Padres\\n\"Payroll (millions)\": 55.24\\n\"Wins\": 76', metadata={'source': './example_data/mlb_teams_2012.csv', 'row': 18}), Document(page_content='Team: Mariners\\n\"Payroll (millions)\": 81.97\\n\"Wins\": 75', metadata={'source': './example_data/mlb_teams_2012.csv', 'row': 19}), Document(page_content='Team: Mets\\n\"Payroll (millions)\": 93.35\\n\"Wins\": 74', metadata={'source': './example_data/mlb_teams_2012.csv', 'row': 20}), Document(page_content='Team: Blue Jays\\n\"Payroll (millions)\": 75.48\\n\"Wins\": 73', metadata={'source': './example_data/mlb_teams_2012.csv', 'row': 21}), Document(page_content='Team: Royals\\n\"Payroll (millions)\": 60.91\\n\"Wins\": 72', metadata={'source': './example_data/mlb_teams_2012.csv', 'row': 22}), Document(page_content='Team: Marlins\\n\"Payroll (millions)\": 118.07\\n\"Wins\": 69', metadata={'source': './example_data/mlb_teams_2012.csv', 'row': 23}), Document(page_content='Team: Red Sox\\n\"Payroll (millions)\": 173.18\\n\"Wins\": 69', metadata={'source': './example_data/mlb_teams_2012.csv', 'row': 24}), Document(page_content='Team: Indians\\n\"Payroll (millions)\": 78.43\\n\"Wins\": 68', metadata={'source': './example_data/mlb_teams_2012.csv', 'row': 25}), Document(page_content='Team: Twins\\n\"Payroll (millions)\": 94.08\\n\"Wins\": 66', metadata={'source': './example_data/mlb_teams_2012.csv', 'row': 26}), Document(page_content='Team: Rockies\\n\"Payroll (millions)\": 78.06\\n\"Wins\": 64', metadata={'source': './example_data/mlb_teams_2012.csv', 'row': 27}), Document(page_content='Team: Cubs\\n\"Payroll (millions)\": 88.19\\n\"Wins\": 61', metadata={'source': './example_data/mlb_teams_2012.csv', 'row': 28}), Document(page_content='Team: Astros\\n\"Payroll (millions)\": 60.65\\n\"Wins\": 55', metadata={'source': './example_data/mlb_teams_2012.csv', 'row': 29})]\n"
     ]
    }
   ],
   "source": [
    "# CSV 文件读取\n",
    "from langchain.document_loaders.csv_loader import CSVLoader\n",
    "\n",
    "loader = CSVLoader(file_path='./example_data/mlb_teams_2012.csv')\n",
    "data = loader.load()\n",
    "print(data)"
   ]
  },
  {
   "cell_type": "code",
   "execution_count": 10,
   "metadata": {},
   "outputs": [
    {
     "name": "stderr",
     "output_type": "stream",
     "text": [
      "100%|██████████| 2/2 [00:00<?, ?it/s]\n"
     ]
    },
    {
     "data": {
      "text/plain": [
       "2"
      ]
     },
     "execution_count": 10,
     "metadata": {},
     "output_type": "execute_result"
    }
   ],
   "source": [
    "# 文件夹读取\n",
    "from langchain.document_loaders import DirectoryLoader\n",
    "loader = DirectoryLoader('../', glob=\"**/*.md\", show_progress=True)\n",
    "docs = loader.load()\n",
    "len(docs)"
   ]
  },
  {
   "cell_type": "code",
   "execution_count": 27,
   "metadata": {},
   "outputs": [
    {
     "data": {
      "text/plain": [
       "Document(page_content='.venv\\n.github\\n.git\\n.mypy_cache\\n.pytest_cache\\nDockerfile', metadata={'file_path': '.dockerignore', 'file_name': '.dockerignore', 'file_type': ''})"
      ]
     },
     "execution_count": 27,
     "metadata": {},
     "output_type": "execute_result"
    }
   ],
   "source": [
    "# github 读取\n",
    "from langchain.document_loaders import GitLoader\n",
    "from getpass import getpass\n",
    "\n",
    "loader = GitLoader(\n",
    "    clone_url=\"https://github.com/hwchase17/langchain\",\n",
    "    repo_path=\"./example_data/test_repo2/\",\n",
    "    branch=\"master\",\n",
    ")\n",
    "\n",
    "data = loader.load()\n",
    "\n",
    "data[0]"
   ]
  },
  {
   "cell_type": "code",
   "execution_count": 23,
   "metadata": {},
   "outputs": [
    {
     "name": "stderr",
     "output_type": "stream",
     "text": [
      "Downloading builder script: 4.31kB [00:00, ?B/s]\n",
      "Downloading metadata: 2.17kB [00:00, 2.13MB/s]\n",
      "Downloading readme: 7.59kB [00:00, ?B/s]\n"
     ]
    },
    {
     "name": "stdout",
     "output_type": "stream",
     "text": [
      "Downloading and preparing dataset imdb/plain_text to C:/Users/FY/.cache/huggingface/datasets/imdb/plain_text/1.0.0/d613c88cf8fa3bab83b4ded3713f1f74830d1100e171db75bbddb80b3345c9c0...\n"
     ]
    },
    {
     "name": "stderr",
     "output_type": "stream",
     "text": [
      "Downloading data: 100%|██████████| 84.1M/84.1M [00:06<00:00, 12.3MB/s]\n",
      "                                                                                              \r"
     ]
    },
    {
     "name": "stdout",
     "output_type": "stream",
     "text": [
      "Dataset imdb downloaded and prepared to C:/Users/FY/.cache/huggingface/datasets/imdb/plain_text/1.0.0/d613c88cf8fa3bab83b4ded3713f1f74830d1100e171db75bbddb80b3345c9c0. Subsequent calls will reuse this data.\n"
     ]
    },
    {
     "name": "stderr",
     "output_type": "stream",
     "text": [
      "100%|██████████| 3/3 [00:00<00:00, 194.85it/s]\n"
     ]
    },
    {
     "data": {
      "text/plain": [
       "[Document(page_content='I rented I AM CURIOUS-YELLOW from my video store because of all the controversy that surrounded it when it was first released in 1967. I also heard that at first it was seized by U.S. customs if it ever tried to enter this country, therefore being a fan of films considered \"controversial\" I really had to see this for myself.<br /><br />The plot is centered around a young Swedish drama student named Lena who wants to learn everything she can about life. In particular she wants to focus her attentions to making some sort of documentary on what the average Swede thought about certain political issues such as the Vietnam War and race issues in the United States. In between asking politicians and ordinary denizens of Stockholm about their opinions on politics, she has sex with her drama teacher, classmates, and married men.<br /><br />What kills me about I AM CURIOUS-YELLOW is that 40 years ago, this was considered pornographic. Really, the sex and nudity scenes are few and far between, even then it\\'s not shot like some cheaply made porno. While my countrymen mind find it shocking, in reality sex and nudity are a major staple in Swedish cinema. Even Ingmar Bergman, arguably their answer to good old boy John Ford, had sex scenes in his films.<br /><br />I do commend the filmmakers for the fact that any sex shown in the film is shown for artistic purposes rather than just to shock people and make money to be shown in pornographic theaters in America. I AM CURIOUS-YELLOW is a good film for anyone wanting to study the meat and potatoes (no pun intended) of Swedish cinema. But really, this film doesn\\'t have much of a plot.', metadata={'label': 0}),\n",
       " Document(page_content='\"I Am Curious: Yellow\" is a risible and pretentious steaming pile. It doesn\\'t matter what one\\'s political views are because this film can hardly be taken seriously on any level. As for the claim that frontal male nudity is an automatic NC-17, that isn\\'t true. I\\'ve seen R-rated films with male nudity. Granted, they only offer some fleeting views, but where are the R-rated films with gaping vulvas and flapping labia? Nowhere, because they don\\'t exist. The same goes for those crappy cable shows: schlongs swinging in the breeze but not a clitoris in sight. And those pretentious indie movies like The Brown Bunny, in which we\\'re treated to the site of Vincent Gallo\\'s throbbing johnson, but not a trace of pink visible on Chloe Sevigny. Before crying (or implying) \"double-standard\" in matters of nudity, the mentally obtuse should take into account one unavoidably obvious anatomical difference between men and women: there are no genitals on display when actresses appears nude, and the same cannot be said for a man. In fact, you generally won\\'t see female genitals in an American film in anything short of porn or explicit erotica. This alleged double-standard is less a double standard than an admittedly depressing ability to come to terms culturally with the insides of women\\'s bodies.', metadata={'label': 0}),\n",
       " Document(page_content=\"If only to avoid making this type of film in the future. This film is interesting as an experiment but tells no cogent story.<br /><br />One might feel virtuous for sitting thru it because it touches on so many IMPORTANT issues but it does so without any discernable motive. The viewer comes away with no new perspectives (unless one comes up with one while one's mind wanders, as it will invariably do during this pointless film).<br /><br />One might better spend one's time staring out a window at a tree growing.<br /><br />\", metadata={'label': 0}),\n",
       " Document(page_content=\"This film was probably inspired by Godard's Masculin, féminin and I urge you to see that film instead.<br /><br />The film has two strong elements and those are, (1) the realistic acting (2) the impressive, undeservedly good, photo. Apart from that, what strikes me most is the endless stream of silliness. Lena Nyman has to be most annoying actress in the world. She acts so stupid and with all the nudity in this film,...it's unattractive. Comparing to Godard's film, intellectuality has been replaced with stupidity. Without going too far on this subject, I would say that follows from the difference in ideals between the French and the Swedish society.<br /><br />A movie of its time, and place. 2/10.\", metadata={'label': 0}),\n",
       " Document(page_content='Oh, brother...after hearing about this ridiculous film for umpteen years all I can think of is that old Peggy Lee song..<br /><br />\"Is that all there is??\" ...I was just an early teen when this smoked fish hit the U.S. I was too young to get in the theater (although I did manage to sneak into \"Goodbye Columbus\"). Then a screening at a local film museum beckoned - Finally I could see this film, except now I was as old as my parents were when they schlepped to see it!!<br /><br />The ONLY reason this film was not condemned to the anonymous sands of time was because of the obscenity case sparked by its U.S. release. MILLIONS of people flocked to this stinker, thinking they were going to see a sex film...Instead, they got lots of closeups of gnarly, repulsive Swedes, on-street interviews in bland shopping malls, asinie political pretension...and feeble who-cares simulated sex scenes with saggy, pale actors.<br /><br />Cultural icon, holy grail, historic artifact..whatever this thing was, shred it, burn it, then stuff the ashes in a lead box!<br /><br />Elite esthetes still scrape to find value in its boring pseudo revolutionary political spewings..But if it weren\\'t for the censorship scandal, it would have been ignored, then forgotten.<br /><br />Instead, the \"I Am Blank, Blank\" rhythymed title was repeated endlessly for years as a titilation for porno films (I am Curious, Lavender - for gay films, I Am Curious, Black - for blaxploitation films, etc..) and every ten years or so the thing rises from the dead, to be viewed by a new generation of suckers who want to see that \"naughty sex film\" that \"revolutionized the film industry\"...<br /><br />Yeesh, avoid like the plague..Or if you MUST see it - rent the video and fast forward to the \"dirty\" parts, just to get it over with.<br /><br />', metadata={'label': 0}),\n",
       " Document(page_content=\"I would put this at the top of my list of films in the category of unwatchable trash! There are films that are bad, but the worst kind are the ones that are unwatchable but you are suppose to like them because they are supposed to be good for you! The sex sequences, so shocking in its day, couldn't even arouse a rabbit. The so called controversial politics is strictly high school sophomore amateur night Marxism. The film is self-consciously arty in the worst sense of the term. The photography is in a harsh grainy black and white. Some scenes are out of focus or taken from the wrong angle. Even the sound is bad! And some people call this art?<br /><br />\", metadata={'label': 0}),\n",
       " Document(page_content=\"Whoever wrote the screenplay for this movie obviously never consulted any books about Lucille Ball, especially her autobiography. I've never seen so many mistakes in a biopic, ranging from her early years in Celoron and Jamestown to her later years with Desi. I could write a whole list of factual errors, but it would go on for pages. In all, I believe that Lucille Ball is one of those inimitable people who simply cannot be portrayed by anyone other than themselves. If I were Lucie Arnaz and Desi, Jr., I would be irate at how many mistakes were made in this film. The filmmakers tried hard, but the movie seems awfully sloppy to me.\", metadata={'label': 0}),\n",
       " Document(page_content='When I first saw a glimpse of this movie, I quickly noticed the actress who was playing the role of Lucille Ball. Rachel York\\'s portrayal of Lucy is absolutely awful. Lucille Ball was an astounding comedian with incredible talent. To think about a legend like Lucille Ball being portrayed the way she was in the movie is horrendous. I cannot believe out of all the actresses in the world who could play a much better Lucy, the producers decided to get Rachel York. She might be a good actress in other roles but to play the role of Lucille Ball is tough. It is pretty hard to find someone who could resemble Lucille Ball, but they could at least find someone a bit similar in looks and talent. If you noticed York\\'s portrayal of Lucy in episodes of I Love Lucy like the chocolate factory or vitavetavegamin, nothing is similar in any way-her expression, voice, or movement.<br /><br />To top it all off, Danny Pino playing Desi Arnaz is horrible. Pino does not qualify to play as Ricky. He\\'s small and skinny, his accent is unreal, and once again, his acting is unbelievable. Although Fred and Ethel were not similar either, they were not as bad as the characters of Lucy and Ricky.<br /><br />Overall, extremely horrible casting and the story is badly told. If people want to understand the real life situation of Lucille Ball, I suggest watching A&E Biography of Lucy and Desi, read the book from Lucille Ball herself, or PBS\\' American Masters: Finding Lucy. If you want to see a docudrama, \"Before the Laughter\" would be a better choice. The casting of Lucille Ball and Desi Arnaz in \"Before the Laughter\" is much better compared to this. At least, a similar aspect is shown rather than nothing.', metadata={'label': 0}),\n",
       " Document(page_content='Who are these \"They\"- the actors? the filmmakers? Certainly couldn\\'t be the audience- this is among the most air-puffed productions in existence. It\\'s the kind of movie that looks like it was a lot of fun to shoot\\x97 TOO much fun, nobody is getting any actual work done, and that almost always makes for a movie that\\'s no fun to watch.<br /><br />Ritter dons glasses so as to hammer home his character\\'s status as a sort of doppleganger of the bespectacled Bogdanovich; the scenes with the breezy Ms. Stratten are sweet, but have an embarrassing, look-guys-I\\'m-dating-the-prom-queen feel to them. Ben Gazzara sports his usual cat\\'s-got-canary grin in a futile attempt to elevate the meager plot, which requires him to pursue Audrey Hepburn with all the interest of a narcoleptic at an insomnia clinic. In the meantime, the budding couple\\'s respective children (nepotism alert: Bogdanovich\\'s daughters) spew cute and pick up some fairly disturbing pointers on \\'love\\' while observing their parents. (Ms. Hepburn, drawing on her dignity, manages to rise above the proceedings- but she has the monumental challenge of playing herself, ostensibly.) Everybody looks great, but so what? It\\'s a movie and we can expect that much, if that\\'s what you\\'re looking for you\\'d be better off picking up a copy of Vogue.<br /><br />Oh- and it has to be mentioned that Colleen Camp thoroughly annoys, even apart from her singing, which, while competent, is wholly unconvincing... the country and western numbers are woefully mismatched with the standards on the soundtrack. Surely this is NOT what Gershwin (who wrote the song from which the movie\\'s title is derived) had in mind; his stage musicals of the 20\\'s may have been slight, but at least they were long on charm. \"They All Laughed\" tries to coast on its good intentions, but nobody- least of all Peter Bogdanovich - has the good sense to put on the brakes.<br /><br />Due in no small part to the tragic death of Dorothy Stratten, this movie has a special place in the heart of Mr. Bogdanovich- he even bought it back from its producers, then distributed it on his own and went bankrupt when it didn\\'t prove popular. His rise and fall is among the more sympathetic and tragic of Hollywood stories, so there\\'s no joy in criticizing the film... there _is_ real emotional investment in Ms. Stratten\\'s scenes. But \"Laughed\" is a faint echo of \"The Last Picture Show\", \"Paper Moon\" or \"What\\'s Up, Doc\"- following \"Daisy Miller\" and \"At Long Last Love\", it was a thundering confirmation of the phase from which P.B. has never emerged.<br /><br />All in all, though, the movie is harmless, only a waste of rental. I want to watch people having a good time, I\\'ll go to the park on a sunny day. For filmic expressions of joy and love, I\\'ll stick to Ernest Lubitsch and Jaques Demy...', metadata={'label': 0}),\n",
       " Document(page_content=\"This is said to be a personal film for Peter Bogdonavitch. He based it on his life but changed things around to fit the characters, who are detectives. These detectives date beautiful models and have no problem getting them. Sounds more like a millionaire playboy filmmaker than a detective, doesn't it? This entire movie was written by Peter, and it shows how out of touch with real people he was. You're supposed to write what you know, and he did that, indeed. And leaves the audience bored and confused, and jealous, for that matter. This is a curio for people who want to see Dorothy Stratten, who was murdered right after filming. But Patti Hanson, who would, in real life, marry Keith Richards, was also a model, like Stratten, but is a lot better and has a more ample part. In fact, Stratten's part seemed forced; added. She doesn't have a lot to do with the story, which is pretty convoluted to begin with. All in all, every character in this film is somebody that very few people can relate with, unless you're millionaire from Manhattan with beautiful supermodels at your beckon call. For the rest of us, it's an irritating snore fest. That's what happens when you're out of touch. You entertain your few friends with inside jokes, and bore all the rest.\", metadata={'label': 0}),\n",
       " Document(page_content='It was great to see some of my favorite stars of 30 years ago including John Ritter, Ben Gazarra and Audrey Hepburn. They looked quite wonderful. But that was it. They were not given any characters or good lines to work with. I neither understood or cared what the characters were doing.<br /><br />Some of the smaller female roles were fine, Patty Henson and Colleen Camp were quite competent and confident in their small sidekick parts. They showed some talent and it is sad they didn\\'t go on to star in more and better films. Sadly, I didn\\'t think Dorothy Stratten got a chance to act in this her only important film role.<br /><br />The film appears to have some fans, and I was very open-minded when I started watching it. I am a big Peter Bogdanovich fan and I enjoyed his last movie, \"Cat\\'s Meow\" and all his early ones from \"Targets\" to \"Nickleodeon\". So, it really surprised me that I was barely able to keep awake watching this one.<br /><br />It is ironic that this movie is about a detective agency where the detectives and clients get romantically involved with each other. Five years later, Bogdanovich\\'s ex-girlfriend, Cybil Shepherd had a hit television series called \"Moonlighting\" stealing the story idea from Bogdanovich. Of course, there was a great difference in that the series relied on tons of witty dialogue, while this tries to make do with slapstick and a few screwball lines.<br /><br />Bottom line: It ain\\'t no \"Paper Moon\" and only a very pale version of \"What\\'s Up, Doc\".', metadata={'label': 0}),\n",
       " Document(page_content=\"I can't believe that those praising this movie herein aren't thinking of some other film. I was prepared for the possibility that this would be awful, but the script (or lack thereof) makes for a film that's also pointless. On the plus side, the general level of craft on the part of the actors and technical crew is quite competent, but when you've got a sow's ear to work with you can't make a silk purse. Ben G fans should stick with just about any other movie he's been in. Dorothy S fans should stick to Galaxina. Peter B fans should stick to Last Picture Show and Target. Fans of cheap laughs at the expense of those who seem to be asking for it should stick to Peter B's amazingly awful book, Killing of the Unicorn.\", metadata={'label': 0}),\n",
       " Document(page_content='Never cast models and Playboy bunnies in your films! Bob Fosse\\'s \"Star 80\" about Dorothy Stratten, of whom Bogdanovich was obsessed enough to have married her SISTER after her murder at the hands of her low-life husband, is a zillion times more interesting than Dorothy herself on the silver screen. Patty Hansen is no actress either..I expected to see some sort of lost masterpiece a la Orson Welles but instead got Audrey Hepburn cavorting in jeans and a god-awful \"poodlesque\" hair-do....Very disappointing....\"Paper Moon\" and \"The Last Picture Show\" I could watch again and again. This clunker I could barely sit through once. This movie was reputedly not released because of the brouhaha surrounding Ms. Stratten\\'s tawdry death; I think the real reason was because it was so bad!', metadata={'label': 0}),\n",
       " Document(page_content=\"Its not the cast. A finer group of actors, you could not find. Its not the setting. The director is in love with New York City, and by the end of the film, so are we all! Woody Allen could not improve upon what Bogdonovich has done here. If you are going to fall in love, or find love, Manhattan is the place to go. No, the problem with the movie is the script. There is none. The actors fall in love at first sight, words are unnecessary. In the director's own experience in Hollywood that is what happens when they go to work on the set. It is reality to him, and his peers, but it is a fantasy to most of us in the real world. So, in the end, the movie is hollow, and shallow, and message-less.\", metadata={'label': 0}),\n",
       " Document(page_content='Today I found \"They All Laughed\" on VHS on sale in a rental. It was a really old and very used VHS, I had no information about this movie, but I liked the references listed on its cover: the names of Peter Bogdanovich, Audrey Hepburn, John Ritter and specially Dorothy Stratten attracted me, the price was very low and I decided to risk and buy it. I searched IMDb, and the User Rating of 6.0 was an excellent reference. I looked in \"Mick Martin & Marsha Porter Video & DVD Guide 2003\" and \\x96 wow \\x96 four stars! So, I decided that I could not waste more time and immediately see it. Indeed, I have just finished watching \"They All Laughed\" and I found it a very boring overrated movie. The characters are badly developed, and I spent lots of minutes to understand their roles in the story. The plot is supposed to be funny (private eyes who fall in love for the women they are chasing), but I have not laughed along the whole story. The coincidences, in a huge city like New York, are ridiculous. Ben Gazarra as an attractive and very seductive man, with the women falling for him as if her were a Brad Pitt, Antonio Banderas or George Clooney, is quite ridiculous. In the end, the greater attractions certainly are the presence of the Playboy centerfold and playmate of the year Dorothy Stratten, murdered by her husband pretty after the release of this movie, and whose life was showed in \"Star 80\" and \"Death of a Centerfold: The Dorothy Stratten Story\"; the amazing beauty of the sexy Patti Hansen, the future Mrs. Keith Richards; the always wonderful, even being fifty-two years old, Audrey Hepburn; and the song \"Amigo\", from Roberto Carlos. Although I do not like him, Roberto Carlos has been the most popular Brazilian singer since the end of the 60\\'s and is called by his fans as \"The King\". I will keep this movie in my collection only because of these attractions (manly Dorothy Stratten). My vote is four.<br /><br />Title (Brazil): \"Muito Riso e Muita Alegria\" (\"Many Laughs and Lots of Happiness\")', metadata={'label': 0})]"
      ]
     },
     "execution_count": 23,
     "metadata": {},
     "output_type": "execute_result"
    }
   ],
   "source": [
    "# hf的数据集读取\n",
    "from langchain.document_loaders import HuggingFaceDatasetLoader\n",
    "\n",
    "dataset_name = \"imdb\"\n",
    "page_content_column = \"text\"\n",
    "\n",
    "\n",
    "loader = HuggingFaceDatasetLoader(dataset_name, page_content_column)\n",
    "\n",
    "data = loader.load()\n",
    "data[:15]"
   ]
  },
  {
   "cell_type": "code",
   "execution_count": 41,
   "metadata": {},
   "outputs": [
    {
     "name": "stdout",
     "output_type": "stream",
     "text": [
      "\n",
      "\n",
      "\n",
      "\n",
      "\n",
      "\n",
      "\n",
      "\n",
      "\n",
      "ESPN - Serving Sports Fans. Anytime. Anywhere.\n",
      "\n",
      "\n",
      "\n",
      "\n",
      "\n",
      "\n",
      "\n",
      "\n",
      "\n",
      "\n",
      "\n",
      "\n",
      "\n",
      "\n",
      "\n",
      "\n",
      "\n",
      "\n",
      "\n",
      "\n",
      "\n",
      "\n",
      "\n",
      "\n",
      "\n",
      "\n",
      "\n",
      "\n",
      "\n",
      "\n",
      "\n",
      "\n",
      "\n",
      "\n",
      "\n",
      "\n",
      "\n",
      "\n",
      "\n",
      "\n",
      "\n",
      "\n",
      "\n",
      "\n",
      "\n",
      "\n",
      "\n",
      "\n",
      "\n",
      "\n",
      "\n",
      "\n",
      "\n",
      "\n",
      "\n",
      "\n",
      "\n",
      "\n",
      "\n",
      "\n",
      "\n",
      "\n",
      "\n",
      "\n",
      "\n",
      "\n",
      "\n",
      "\n",
      "\n",
      "\n",
      "\n",
      "\n",
      "\n",
      "\n",
      "\n",
      "\n",
      "\n",
      "\n",
      "\n",
      "\n",
      "\n",
      "\n",
      "\n",
      "\n",
      "\n",
      "\n",
      "\n",
      "\n",
      "\n",
      "\n",
      "\n",
      "\n",
      "        Skip to main content\n",
      "    \n",
      "\n",
      "        Skip to navigation\n",
      "    \n",
      "\n",
      "\n",
      "\n",
      "\n",
      "\n",
      "\n",
      "\n",
      "\n",
      "\n",
      "\n",
      "\n",
      "\n",
      "\n",
      "\n",
      "\n",
      "\n",
      "\n",
      "\n",
      "\n",
      "\n",
      "\n",
      "\n",
      "\n",
      "\n",
      "\n",
      "\n",
      "\n",
      "\n",
      "\n",
      "\n",
      "\n",
      "\n",
      "\n",
      "<\n",
      "\n",
      ">\n",
      "\n",
      "\n",
      "\n",
      "\n",
      "\n",
      "\n",
      "\n",
      "\n",
      "\n",
      "MenuESPN\n",
      "\n",
      "\n",
      "Search\n",
      "\n",
      "\n",
      "\n",
      "scores\n",
      "\n",
      "\n",
      "\n",
      "NFLNBANHLMLBSoccerNCAA…TennisNCAAFNCAAMNCAAWSports BettingBoxingCFLCricketF1GolfHorseMMANASCARNBA G LeagueOlympic SportsPLLRacingRN BBRN FBRugbyWNBAWWEX GamesXFLMore ESPNFantasyListenWatchESPN+\n",
      "\n",
      "\n",
      "\n",
      "\n",
      "\n",
      "\n",
      "\n",
      "\n",
      "\n",
      "\n",
      "\n",
      "\n",
      "\n",
      "\n",
      "\n",
      "  \n",
      "\n",
      "SUBSCRIBE NOW\n",
      "\n",
      "\n",
      "\n",
      "\n",
      "\n",
      "NCAA Men's College World Series Finals\n",
      "\n",
      "\n",
      "\n",
      "\n",
      "\n",
      "\n",
      "\n",
      "PGA TOUR LIVE\n",
      "\n",
      "\n",
      "\n",
      "\n",
      "\n",
      "\n",
      "\n",
      "MLB: Select Games\n",
      "\n",
      "\n",
      "\n",
      "\n",
      "\n",
      "\n",
      "\n",
      "Cricket: Select Matches\n",
      "\n",
      "\n",
      "Quick Links\n",
      "\n",
      "\n",
      "\n",
      "\n",
      "Men's College World Series\n",
      "\n",
      "\n",
      "\n",
      "\n",
      "\n",
      "\n",
      "\n",
      "2023 NHL draft\n",
      "\n",
      "\n",
      "\n",
      "\n",
      "\n",
      "\n",
      "\n",
      "Women's World Cup Rosters\n",
      "\n",
      "\n",
      "\n",
      "\n",
      "\n",
      "\n",
      "\n",
      "How To Watch PGA TOUR\n",
      "\n",
      "\n",
      "\n",
      "\n",
      "\n",
      "\n",
      "Favorites\n",
      "\n",
      "\n",
      "\n",
      "\n",
      "\n",
      "\n",
      "      Manage Favorites\n",
      "      \n",
      "\n",
      "\n",
      "\n",
      "Customize ESPNSign UpLog InESPN Sites\n",
      "\n",
      "\n",
      "\n",
      "\n",
      "ESPN Deportes\n",
      "\n",
      "\n",
      "\n",
      "\n",
      "\n",
      "\n",
      "\n",
      "Andscape\n",
      "\n",
      "\n",
      "\n",
      "\n",
      "\n",
      "\n",
      "\n",
      "espnW\n",
      "\n",
      "\n",
      "\n",
      "\n",
      "\n",
      "\n",
      "\n",
      "ESPNFC\n",
      "\n",
      "\n",
      "\n",
      "\n",
      "\n",
      "\n",
      "\n",
      "X Games\n",
      "\n",
      "\n",
      "\n",
      "\n",
      "\n",
      "\n",
      "\n",
      "SEC Network\n",
      "\n",
      "\n",
      "ESPN Apps\n",
      "\n",
      "\n",
      "\n",
      "\n",
      "ESPN\n",
      "\n",
      "\n",
      "\n",
      "\n",
      "\n",
      "\n",
      "\n",
      "ESPN Fantasy\n",
      "\n",
      "\n",
      "Follow ESPN\n",
      "\n",
      "\n",
      "\n",
      "\n",
      "Facebook\n",
      "\n",
      "\n",
      "\n",
      "\n",
      "\n",
      "\n",
      "\n",
      "Twitter\n",
      "\n",
      "\n",
      "\n",
      "\n",
      "\n",
      "\n",
      "\n",
      "Instagram\n",
      "\n",
      "\n",
      "\n",
      "\n",
      "\n",
      "\n",
      "\n",
      "Snapchat\n",
      "\n",
      "\n",
      "\n",
      "\n",
      "\n",
      "\n",
      "\n",
      "YouTube\n",
      "\n",
      "\n",
      "\n",
      "\n",
      "\n",
      "\n",
      "\n",
      "The ESPN Daily Podcast\n",
      "\n",
      "\n",
      "Men's College World Series Championship Series - Game 2, Series tied 1-1Florida scores record 24 runs to set up winner-takes-all MCWS Game 33h2:02Can Florida and LSU top an epic first two games?Florida beat LSU 24-4 in Game 2 of the MCWS. Can Florida get hot again in Game 3, or will LSU bounce back?2hRyan McGee\n",
      "\n",
      "\n",
      "\n",
      "Florida sets MCWS runs record after Fabian's single4h0:24\n",
      "\n",
      "\n",
      "Florida scores its 20th run on BT Riopelle's HR4h0:35\n",
      "\n",
      "\n",
      "Florida goes up 16 runs on Caglianone's second HR4h0:36\n",
      "\n",
      "\n",
      "Wyatt Langford, Caglianone crank back-to-back HRs4h0:58\n",
      "\n",
      "\n",
      "Tommy White's 102nd RBI puts LSU back on top4h0:30\n",
      "\n",
      "\n",
      "\n",
      "MCWS: Scores, schedule and how to watchTOP HEADLINESWolves, center Reid agree on 3-year, $42M dealGators score MCWS-record 24 runs, extend finalsDodgers' Freeman joins 2,000-hit club with doubleThomas sets WNBA record with 4th triple-doubleYin wins Women's PGA for first career major titleBama PG Quinerly to enter portal as grad transferComedy of errors sinks Mets in 8th vs. PhilliesBradley sets Travelers scoring mark in victory2024 NBA mock draft: A new No. 1PGA TOUR: TRAVELERS CHAMPIONSHIP'Be good, be good': Keegan Bradley's wish comes true on approach shot7h0:24MUST-SEE ON THE DIAMONDOrioles get revenge on Julio Rodriguez with HR robbery6h0:37Charlie Morton weaves through Reds' mascot race5h0:16MLB SCOREBOARDSUNDAY'S GAMESSee AllBASEBALL RETURNS TO LONDONBill Murray, huge hot dogs and more from Cubs-Cardinals in LondonMLB returned to London after a four-year hiatus, and fans across the pond are excited. Here's a look at the scene around Cubs-Cardinals in London Stadium.1mESPN.comDaniel Shirey/MLB Photos via Getty ImagesThe beauty of the London SeriesThe London Series is about more than baseball -- it's about making unforgettable memories.12hTim KurkjianMLB's long road back to the UKSUNDAY'S BESTAlyssa Thomas sets WNBA triple-double record in Sun's blowout win5h2:00Breanna Stewart's late and-1 OT bucket propels Liberty past Mystics6h0:27WNBA SCOREBOARDSUNDAY'S GAMESWNBA ALL-STAR GAMEGriner, Boston named WNBA All-Star startersBrittney Griner was voted as an All-Star for the ninth time, and Aliyah Boston will become just the sixth rookie in WNBA history to start in the game.10hM.A. VoepelAP Photo/Darron CummingsNBA OFFSEASONLatest deals, news, buzz and reportsEvery piece of information you need to know about summer free agency.1dESPN.comAP Photo/Matt YorkThe trade packages that could land Damian Lillard11h1:47NBA trade tracker: Grades, details for all deals Top HeadlinesWolves, center Reid agree on 3-year, $42M dealGators score MCWS-record 24 runs, extend finalsDodgers' Freeman joins 2,000-hit club with doubleThomas sets WNBA record with 4th triple-doubleYin wins Women's PGA for first career major titleBama PG Quinerly to enter portal as grad transferComedy of errors sinks Mets in 8th vs. PhilliesBradley sets Travelers scoring mark in victory2024 NBA mock draft: A new No. 1Favorites FantasyManage FavoritesFantasy HomeCustomize ESPNSign UpLog InICYMI0:27Did Julio Rodriguez just make the home run robbery of the year?Julio Rodriguez somehow gets his glove to the ball before it finds its way over the fence in the seventh inning. Best of ESPN+Daniel Shirey/MLB Photos via Getty ImagesHow one baseball team could change MLB draft strategy foreverOne day, an MLB front office could completely disrupt draft strategy and take home a haul. And this year, the Yankees are the team best positioned to do so.Petre Thomas/USA TODAY SportsNBA free agency 2023: Ranking the top 25 players availableWhere do Lakers free agents D'Angelo Russell and Austin Reaves check in? Which future Hall of Famers made and missed our list? Kevin Pelton is ranking his top 25.﻿ESPNCollege football Future Power RankingsWith future quarterbacks, defenses and offenses already accounted for, it's time to look at the top 25 teams in the Future Power Rankings. Trending NowJulie Glassberg for ESPNBefore Wembanyama hit the NBA draft, there was Frédéric WeisAfter the Knicks, the Dunk of Death and his son's autism diagnosis, the 1999 first-round pick didn't know if he'd ever love himself, his family and his sport.Todd GravesMCWS 2023: How a Jell-O shot challenge became the second-biggest event in OmahaNow that LSU has advanced to the Men's College World Series finals, its fans have even more reason to celebrate at Rocco's Pizza and Cantina.Mitchell Leff/Getty ImagesNFC East 2023: Who can win the division and other early questionsPhilly is considered a Super Bowl favorite once again, but the Cowboys, Giants and Commanders each have reason to believe they'll win the NFC East. 2023 ESPYSGetty ImagesESPYS 2023 vote: Nikola Jokic, Patrick Mahomes and Las Vegas Aces lead nominationsThe NBA Finals MVP and his Denver Nuggets are up for top awards this year, along with some familiar faces and surprising performances. How to Watch on ESPN+(AP Photo/Koji Sasahara, File)How to watch the PGA Tour, Masters, PGA Championship and FedEx Cup playoffs on ESPN, ESPN+Here's everything you need to know about how to watch the PGA Tour, Masters, PGA Championship and FedEx Cup playoffs on ESPN and ESPN+. Sign up to play the #1 Fantasy game!Create A LeagueJoin Public LeagueReactivateMock Draft NowSign up for FREE!Create A LeagueJoin a Public LeagueReactivate a LeaguePractice With a Mock DraftSign up for FREE!Create A LeagueJoin a Public LeaguePractice With a Mock Draft\n",
      "\n",
      "ESPN+\n",
      "\n",
      "\n",
      "\n",
      "\n",
      "NCAA Men's College World Series Finals\n",
      "\n",
      "\n",
      "\n",
      "\n",
      "\n",
      "\n",
      "\n",
      "PGA TOUR LIVE\n",
      "\n",
      "\n",
      "\n",
      "\n",
      "\n",
      "\n",
      "\n",
      "MLB: Select Games\n",
      "\n",
      "\n",
      "\n",
      "\n",
      "\n",
      "\n",
      "\n",
      "Cricket: Select Matches\n",
      "\n",
      "\n",
      "Quick Links\n",
      "\n",
      "\n",
      "\n",
      "\n",
      "Men's College World Series\n",
      "\n",
      "\n",
      "\n",
      "\n",
      "\n",
      "\n",
      "\n",
      "2023 NHL draft\n",
      "\n",
      "\n",
      "\n",
      "\n",
      "\n",
      "\n",
      "\n",
      "Women's World Cup Rosters\n",
      "\n",
      "\n",
      "\n",
      "\n",
      "\n",
      "\n",
      "\n",
      "How To Watch PGA TOUR\n",
      "\n",
      "\n",
      "ESPN Sites\n",
      "\n",
      "\n",
      "\n",
      "\n",
      "ESPN Deportes\n",
      "\n",
      "\n",
      "\n",
      "\n",
      "\n",
      "\n",
      "\n",
      "Andscape\n",
      "\n",
      "\n",
      "\n",
      "\n",
      "\n",
      "\n",
      "\n",
      "espnW\n",
      "\n",
      "\n",
      "\n",
      "\n",
      "\n",
      "\n",
      "\n",
      "ESPNFC\n",
      "\n",
      "\n",
      "\n",
      "\n",
      "\n",
      "\n",
      "\n",
      "X Games\n",
      "\n",
      "\n",
      "\n",
      "\n",
      "\n",
      "\n",
      "\n",
      "SEC Network\n",
      "\n",
      "\n",
      "ESPN Apps\n",
      "\n",
      "\n",
      "\n",
      "\n",
      "ESPN\n",
      "\n",
      "\n",
      "\n",
      "\n",
      "\n",
      "\n",
      "\n",
      "ESPN Fantasy\n",
      "\n",
      "\n",
      "Follow ESPN\n",
      "\n",
      "\n",
      "\n",
      "\n",
      "Facebook\n",
      "\n",
      "\n",
      "\n",
      "\n",
      "\n",
      "\n",
      "\n",
      "Twitter\n",
      "\n",
      "\n",
      "\n",
      "\n",
      "\n",
      "\n",
      "\n",
      "Instagram\n",
      "\n",
      "\n",
      "\n",
      "\n",
      "\n",
      "\n",
      "\n",
      "Snapchat\n",
      "\n",
      "\n",
      "\n",
      "\n",
      "\n",
      "\n",
      "\n",
      "YouTube\n",
      "\n",
      "\n",
      "\n",
      "\n",
      "\n",
      "\n",
      "\n",
      "The ESPN Daily Podcast\n",
      "\n",
      "\n",
      "Terms of UsePrivacy PolicyYour US State Privacy RightsChildren's Online Privacy PolicyInterest-Based AdsAbout Nielsen MeasurementDo Not Sell or Share My Personal InformationContact UsDisney Ad Sales SiteWork for ESPNCopyright: © ESPN Enterprises, Inc. All rights reserved.\n",
      "\n",
      "\n",
      "\n",
      "\n",
      "\n",
      "\n",
      "\n",
      "\n",
      "\n",
      "\n",
      "\n",
      "\n",
      "\n",
      "\n",
      "\n",
      "\n",
      "\n",
      "\n",
      "\n",
      "\n",
      "\n"
     ]
    }
   ],
   "source": [
    "from langchain.document_loaders import WebBaseLoader\n",
    "\n",
    "loader = WebBaseLoader(\"https://www.espn.com/\")\n",
    "loader.requests_kwargs = {'verify':False}\n",
    "\n",
    "data = loader.load()\n",
    "print(data[0].page_content)"
   ]
  },
  {
   "attachments": {},
   "cell_type": "markdown",
   "metadata": {},
   "source": [
    "#### Document transformers\n",
    "\n",
    "包含对文档的分割、组合、过滤和其他操作方法"
   ]
  },
  {
   "attachments": {},
   "cell_type": "markdown",
   "metadata": {},
   "source": [
    "##### Text splitters\n",
    "\n",
    "文档分割有很多方法，默认方法时[RecursiveCharacterTextSplitter](https://python.langchain.com/docs/modules/data_connection/document_transformers/text_splitters/recursive_text_splitter)，它使用`[\"\\n\\n\", \"\\n\", \" \", \"\"]`这些字符进行文档拆分，它会按顺序尝试在这些字符上进行拆分，直到块足够小为止。\n",
    "\n",
    "按照指定字符进行切分的方法[CharacterTextSplitter](https://python.langchain.com/docs/modules/data_connection/document_transformers/text_splitters/character_text_splitter)，这个方法非常简单，按照指定的字符进行切分，同时按照指定的块的大小完成切分。这个方法实例化后有多种文档切分方法，比如其中一种`from_tiktoken_encoder`就是按照token的长度进行切分，当然也可以直接使用`TokenTextSplitter`进行切分，更多信息可以参考[Split by tokens](https://python.langchain.com/docs/modules/data_connection/document_transformers/text_splitters/split_by_token)。\n",
    "\n",
    "按照不同编程语言进行切分，注意版本的不同，官方文档现在用[Language](https://python.langchain.com/docs/modules/data_connection/document_transformers/text_splitters/code_splitter)这个模块，没有更新到最新不一定有这个模块。"
   ]
  },
  {
   "cell_type": "code",
   "execution_count": 47,
   "metadata": {},
   "outputs": [],
   "source": [
    "# This is a long document we can split up.\n",
    "with open('./example_data/state_of_the_union.txt') as f:\n",
    "    state_of_the_union = f.read()"
   ]
  },
  {
   "cell_type": "code",
   "execution_count": 50,
   "metadata": {},
   "outputs": [
    {
     "name": "stdout",
     "output_type": "stream",
     "text": [
      "page_content='Madam Speaker, Madam Vice President, our First Lady and Second Gentleman. Members of Congress and' metadata={}\n",
      "page_content='of Congress and the Cabinet. Justices of the Supreme Court. My fellow Americans.' metadata={}\n"
     ]
    }
   ],
   "source": [
    "from langchain.text_splitter import RecursiveCharacterTextSplitter\n",
    "\n",
    "text_splitter = RecursiveCharacterTextSplitter(\n",
    "    # Set a really small chunk size, just to show.\n",
    "    chunk_size = 100,\n",
    "    chunk_overlap  = 20,\n",
    "    length_function = len,\n",
    "    # add_start_index = True\n",
    ")\n",
    "\n",
    "texts = text_splitter.create_documents([state_of_the_union])\n",
    "print(texts[0])\n",
    "print(texts[1])"
   ]
  },
  {
   "cell_type": "code",
   "execution_count": 51,
   "metadata": {},
   "outputs": [
    {
     "name": "stdout",
     "output_type": "stream",
     "text": [
      "page_content='Madam Speaker, Madam Vice President, our First Lady and Second Gentleman. Members of Congress and the Cabinet. Justices of the Supreme Court. My fellow Americans.  \\n\\nLast year COVID-19 kept us apart. This year we are finally together again. \\n\\nTonight, we meet as Democrats Republicans and Independents. But most importantly as Americans. \\n\\nWith a duty to one another to the American people to the Constitution. \\n\\nAnd with an unwavering resolve that freedom will always triumph over tyranny. \\n\\nSix days ago, Russia’s Vladimir Putin sought to shake the foundations of the free world thinking he could make it bend to his menacing ways. But he badly miscalculated. \\n\\nHe thought he could roll into Ukraine and the world would roll over. Instead he met a wall of strength he never imagined. \\n\\nHe met the Ukrainian people. \\n\\nFrom President Zelenskyy to every Ukrainian, their fearlessness, their courage, their determination, inspires the world.' metadata={}\n"
     ]
    }
   ],
   "source": [
    "from langchain.text_splitter import CharacterTextSplitter\n",
    "text_splitter = CharacterTextSplitter(        \n",
    "    separator = \"\\n\\n\",\n",
    "    chunk_size = 1000,\n",
    "    chunk_overlap  = 200,\n",
    "    length_function = len,\n",
    ")\n",
    "\n",
    "texts = text_splitter.create_documents([state_of_the_union])\n",
    "print(texts[0])"
   ]
  },
  {
   "cell_type": "code",
   "execution_count": 52,
   "metadata": {},
   "outputs": [
    {
     "name": "stdout",
     "output_type": "stream",
     "text": [
      "page_content='Madam Speaker, Madam Vice President, our First Lady and Second Gentleman. Members of Congress and the Cabinet. Justices of the Supreme Court. My fellow Americans.  \\n\\nLast year COVID-19 kept us apart. This year we are finally together again. \\n\\nTonight, we meet as Democrats Republicans and Independents. But most importantly as Americans. \\n\\nWith a duty to one another to the American people to the Constitution. \\n\\nAnd with an unwavering resolve that freedom will always triumph over tyranny. \\n\\nSix days ago, Russia’s Vladimir Putin sought to shake the foundations of the free world thinking he could make it bend to his menacing ways. But he badly miscalculated. \\n\\nHe thought he could roll into Ukraine and the world would roll over. Instead he met a wall of strength he never imagined. \\n\\nHe met the Ukrainian people. \\n\\nFrom President Zelenskyy to every Ukrainian, their fearlessness, their courage, their determination, inspires the world.' metadata={'document': 1}\n"
     ]
    }
   ],
   "source": [
    "metadatas = [{\"document\": 1}, {\"document\": 2}]\n",
    "documents = text_splitter.create_documents([state_of_the_union, state_of_the_union], metadatas=metadatas)\n",
    "print(documents[0])"
   ]
  },
  {
   "cell_type": "code",
   "execution_count": 53,
   "metadata": {},
   "outputs": [
    {
     "data": {
      "text/plain": [
       "'Madam Speaker, Madam Vice President, our First Lady and Second Gentleman. Members of Congress and the Cabinet. Justices of the Supreme Court. My fellow Americans.  \\n\\nLast year COVID-19 kept us apart. This year we are finally together again. \\n\\nTonight, we meet as Democrats Republicans and Independents. But most importantly as Americans. \\n\\nWith a duty to one another to the American people to the Constitution. \\n\\nAnd with an unwavering resolve that freedom will always triumph over tyranny. \\n\\nSix days ago, Russia’s Vladimir Putin sought to shake the foundations of the free world thinking he could make it bend to his menacing ways. But he badly miscalculated. \\n\\nHe thought he could roll into Ukraine and the world would roll over. Instead he met a wall of strength he never imagined. \\n\\nHe met the Ukrainian people. \\n\\nFrom President Zelenskyy to every Ukrainian, their fearlessness, their courage, their determination, inspires the world.'"
      ]
     },
     "execution_count": 53,
     "metadata": {},
     "output_type": "execute_result"
    }
   ],
   "source": [
    "text_splitter.split_text(state_of_the_union)[0]"
   ]
  },
  {
   "cell_type": "code",
   "execution_count": 58,
   "metadata": {},
   "outputs": [
    {
     "name": "stdout",
     "output_type": "stream",
     "text": [
      "Madam Speaker, Madam Vice President, our First Lady and Second Gentleman. Members of Congress and the Cabinet. Justices of the Supreme Court. My fellow Americans.  \n",
      "\n",
      "Last year COVID-19 kept us apart. This year we are finally together again. \n",
      "\n",
      "Tonight, we meet as Democrats Republicans and Independents. But most importantly as Americans. \n",
      "\n",
      "With a duty to one another to the American people to the Constitution.\n"
     ]
    }
   ],
   "source": [
    "text_splitter = CharacterTextSplitter.from_tiktoken_encoder(\n",
    "    chunk_size=100, chunk_overlap=0\n",
    ")\n",
    "texts = text_splitter.split_text(state_of_the_union)\n",
    "print(texts[0])"
   ]
  },
  {
   "cell_type": "code",
   "execution_count": 57,
   "metadata": {},
   "outputs": [
    {
     "data": {
      "text/plain": [
       "[Document(page_content='hello_world():\\n    print(\"Hello, World!\")', metadata={}),\n",
       " Document(page_content='# Call the function\\nhello_world()', metadata={})]"
      ]
     },
     "execution_count": 57,
     "metadata": {},
     "output_type": "execute_result"
    }
   ],
   "source": [
    "from langchain.text_splitter import PythonCodeTextSplitter\n",
    "\n",
    "PYTHON_CODE = \"\"\"\n",
    "def hello_world():\n",
    "    print(\"Hello, World!\")\n",
    "\n",
    "# Call the function\n",
    "hello_world()\n",
    "\"\"\"\n",
    "python_splitter = PythonCodeTextSplitter(\n",
    "    chunk_size=50, chunk_overlap=0\n",
    ")\n",
    "python_docs = python_splitter.create_documents([PYTHON_CODE])\n",
    "python_docs"
   ]
  },
  {
   "attachments": {},
   "cell_type": "markdown",
   "metadata": {},
   "source": [
    "#### Text embedding models\n",
    "\n",
    "字符向量化的重要性不言而喻，因为一旦进行向量化，对于字符的操作就可以在向量空间上进行，比如语义搜索就可以转化成向量相似度的计算。\n",
    "\n",
    "`langchain`的文本向量化有两种方法：一种是基于文档的嵌入，就是多个文档进行向量化，另一种是基于查询的嵌入，就是一个文档进行向量化。"
   ]
  },
  {
   "attachments": {},
   "cell_type": "markdown",
   "metadata": {},
   "source": [
    "##### OpenAI"
   ]
  },
  {
   "cell_type": "code",
   "execution_count": 61,
   "metadata": {},
   "outputs": [],
   "source": [
    "from langchain.embeddings import OpenAIEmbeddings\n",
    "\n",
    "embedding_model = OpenAIEmbeddings()"
   ]
  },
  {
   "cell_type": "code",
   "execution_count": 62,
   "metadata": {},
   "outputs": [
    {
     "name": "stderr",
     "output_type": "stream",
     "text": [
      "Retrying langchain.embeddings.openai.embed_with_retry.<locals>._embed_with_retry in 4.0 seconds as it raised APIConnectionError: Error communicating with OpenAI: HTTPSConnectionPool(host='api.openai.com', port=443): Max retries exceeded with url: /v1/engines/text-embedding-ada-002/embeddings (Caused by SSLError(SSLEOFError(8, 'EOF occurred in violation of protocol (_ssl.c:1129)'))).\n"
     ]
    },
    {
     "data": {
      "text/plain": [
       "(5, 1536)"
      ]
     },
     "execution_count": 62,
     "metadata": {},
     "output_type": "execute_result"
    }
   ],
   "source": [
    "embeddings = embedding_model.embed_documents(\n",
    "    [\n",
    "        \"Hi there!\",\n",
    "        \"Oh, hello!\",\n",
    "        \"What's your name?\",\n",
    "        \"My friends call me World\",\n",
    "        \"Hello World!\"\n",
    "    ]\n",
    ")\n",
    "len(embeddings), len(embeddings[0])"
   ]
  },
  {
   "cell_type": "code",
   "execution_count": 63,
   "metadata": {},
   "outputs": [
    {
     "data": {
      "text/plain": [
       "[0.00538721214979887,\n",
       " -0.0005941778072156012,\n",
       " 0.03892524912953377,\n",
       " -0.002979141427204013,\n",
       " -0.008912666700780392]"
      ]
     },
     "execution_count": 63,
     "metadata": {},
     "output_type": "execute_result"
    }
   ],
   "source": [
    "embedded_query = embedding_model.embed_query(\"What was the name mentioned in the conversation?\")\n",
    "embedded_query[:5]"
   ]
  },
  {
   "attachments": {},
   "cell_type": "markdown",
   "metadata": {},
   "source": [
    "##### Hugging Face Hub"
   ]
  },
  {
   "cell_type": "code",
   "execution_count": 2,
   "metadata": {},
   "outputs": [
    {
     "name": "stderr",
     "output_type": "stream",
     "text": [
      "C:\\Users\\FY\\AppData\\Roaming\\Python\\Python39\\site-packages\\tqdm\\auto.py:21: TqdmWarning: IProgress not found. Please update jupyter and ipywidgets. See https://ipywidgets.readthedocs.io/en/stable/user_install.html\n",
      "  from .autonotebook import tqdm as notebook_tqdm\n",
      "e:\\Anaconda3\\envs\\langchain\\lib\\site-packages\\scipy\\__init__.py:146: UserWarning: A NumPy version >=1.17.3 and <1.25.0 is required for this version of SciPy (detected version 1.25.0\n",
      "  warnings.warn(f\"A NumPy version >={np_minversion} and <{np_maxversion}\"\n"
     ]
    },
    {
     "name": "stdout",
     "output_type": "stream",
     "text": [
      "[-0.04895178973674774, -0.03986210376024246, -0.021562790498137474, 0.009908553212881088, -0.03810388222336769, 0.012684348970651627, 0.04349441081285477, 0.07183387875556946, 0.0097486088052392, -0.006987079046666622, 0.06352805346250534, -0.030322600156068802, 0.013839391991496086, 0.025805896148085594, -0.0011363003868609667, -0.014563580974936485, 0.04164035618305206, 0.03622828796505928, -0.026800865307450294, 0.025120755657553673, -0.024978606030344963, -0.004533299244940281, -0.026667160913348198, 0.004100671969354153, -0.05204806476831436, -0.009930499829351902, -0.052065346390008926, 0.00899211224168539, -0.03830048441886902, -0.04405849426984787, -0.004204418044537306, 0.07047972083091736, 0.005133940372616053, -0.07161541283130646, 1.6975303651634022e-06, -0.006047751288861036, -0.011076485738158226, 0.01751335896551609, -0.022299837321043015, 0.040954891592264175, 0.03379017487168312, 0.056650370359420776, -0.07114940136671066, 0.040976617485284805, -0.00590606639161706, -0.03297027572989464, -0.04011695086956024, 0.03690550848841667, 0.010444712825119495, 0.07072383910417557, 0.0019001101609319448, -0.012058253400027752, 0.04288388788700104, -0.04503338038921356, 0.1064680740237236, -0.0059485300444066525, -0.01179715059697628, 0.025893699377775192, 0.039045531302690506, -0.012367877177894115, 0.01538147870451212, -0.03134288266301155, -0.005073245614767075, -0.012316258624196053, -0.002449914813041687, -0.028718918561935425, 0.05035024508833885, -0.051213569939136505, 0.03743274137377739, 0.008315310813486576, 0.11104633659124374, 0.008446861989796162, 0.001980564324185252, 0.06406249850988388, -0.020247889682650566, 0.056444201618433, -0.012311547994613647, -0.0362594909965992, 0.028170764446258545, -0.02553672157227993, 0.02344047836959362, -0.03746702894568443, -0.0350409559905529, -0.026759255677461624, -0.023836130276322365, -0.003887712024152279, -0.03292236104607582, -0.03017790988087654, -0.000955974857788533, 0.018003271892666817, 0.002900162013247609, -0.03479483351111412, -0.025890838354825974, 1.9768873244174756e-05, 0.07750261574983597, -0.01567283645272255, -0.05644113942980766, -0.12369345128536224, 0.07443559914827347, 0.014530880376696587, 0.041560180485248566, -0.02486182563006878, -0.022402776405215263, 0.0585678368806839, -0.032466400414705276, 0.04108654335141182, 0.07884998619556427, 0.013646424748003483, 0.009003639221191406, 0.09833754599094391, 0.008421963080763817, 0.004841282963752747, -0.038118619471788406, -0.002562454901635647, 0.041239719837903976, -0.024173425510525703, 0.029495539143681526, 0.0049819000996649265, 0.007007910870015621, 0.07850858569145203, 0.01847205124795437, -0.021663744002580643, -0.02591213956475258, 0.009712688624858856, -0.025766639038920403, -0.05966674163937569, 0.009273851290345192, -0.02452508546411991, 0.026520490646362305, -0.04336712881922722, 0.020822729915380478, 0.028102701529860497, 0.03256068006157875, 0.029697565361857414, -0.012654068879783154, 0.027797212824225426, 0.0390072725713253, -0.03650740534067154, 0.0027240316849201918, -0.013410951942205429, 0.05861574411392212, 0.019778799265623093, 0.022310268133878708, 0.015110366977751255, -0.025659823790192604, 0.030828364193439484, 0.0026782217901200056, -0.0154350521042943, 0.014331676065921783, 0.027425702661275864, -0.009568563662469387, 0.027056152001023293, 0.002763566793873906, 0.00731115136295557, 0.002585017355158925, -0.025712616741657257, 0.01893508806824684, -0.027686573565006256, -0.013943268917500973, -0.016881383955478668, 0.015971094369888306, -0.010773380286991596, 0.00030835045618005097, -0.02504624053835869, 0.014220336452126503, 0.03993041068315506, 0.011746745556592941, 0.004333543591201305, -0.01856340281665325, -0.017303023487329483, -0.05586622655391693, -0.009961985051631927, -0.01503619272261858, 0.06309200078248978, -0.013529088348150253, 0.08178046345710754, 0.05368642136454582, -0.041810229420661926, -0.05746389925479889, 0.054850220680236816, -0.006377500016242266, -0.033537548035383224, -0.026076678186655045, 0.0094642024487257, -0.03805089369416237, 0.03635936975479126, -0.05167917162179947, -0.05559728667140007, 0.00756079563871026, -0.008204030804336071, -0.06730563938617706, 0.011553785763680935, 0.004411429166793823, -0.012197236530482769, 0.004297870211303234, 0.038411591202020645, -0.03532826527953148, -0.0017625504406169057, -0.007743236143141985, -0.013675795868039131, 0.029633427038788795, 0.013926828280091286, 0.08107908815145493, 0.06564442068338394, 0.012034821324050426, -0.022493306547403336, 0.04180241376161575, -0.050419457256793976, -0.0006258705398067832, 0.029372816905379295, 0.1327812671661377, 0.007509625516831875, -0.05461335927248001, -0.013333696871995926, -0.005744608119130135, -0.03262351080775261, 0.0006984153878875077, 0.014694883488118649, -0.004533669911324978, 0.014108825474977493, 0.0018380251713097095, -0.06389152258634567, -0.029242267832159996, 0.04146278649568558, 0.00594101008027792, -0.11854624003171921, -0.016911620274186134, 0.024552403017878532, 0.04042096808552742, -0.020359205082058907, -0.045201193541288376, -0.0038475366309285164, 0.024601301178336143, 0.08124662190675735, 0.012816205620765686, 0.014872714877128601, 0.02847789041697979, 0.0031826926860958338, -0.024709563702344894, -0.08805378526449203, -0.0106115797534585, 0.03667034953832626, 0.0029583971481770277, 0.040064409375190735, -0.04548342525959015, -0.03464100882411003, -0.0021476391702890396, -0.036805834621191025, 0.014849890023469925, -0.020416665822267532, -0.014622466638684273, -0.0026513589546084404, -0.0449196994304657, -0.001327086822129786, 0.01116494182497263, 0.018211452290415764, 0.01183350570499897, -0.0018385725561529398, -0.01894283853471279, -0.0108595946803689, 0.007092228624969721, -0.005436729174107313, -0.0034827347844839096, -0.029499715194106102, 0.04902755096554756, 0.02122051827609539, -0.030143562704324722, -0.058468613773584366, -0.009746483527123928, -0.0049196816980838776, 0.0247146338224411, 0.004927182104438543, -0.020345162600278854, -0.018120571970939636, 0.016093755140900612, -0.05284435302019119, -0.04534485191106796, -0.011491462588310242, -0.025784937664866447, 0.0163059551268816, -0.030355429276823997, 0.03911561891436577, -0.026777368038892746, -0.005285929422825575, 0.005916563794016838, 0.04165317490696907, 0.005182859022170305, -0.01777726598083973, -0.04496511071920395, 0.062129270285367966, 0.04249228909611702, 0.013894281350076199, 0.057562220841646194, 0.002197797177359462, -0.007051078137010336, -0.01961544342339039, -0.044110242277383804, 0.04907446727156639, 0.01307865884155035, 0.057615894824266434, -0.01976867951452732, 0.01929476112127304, -0.021671244874596596, -0.019971365109086037, 0.025627141818404198, 0.07862606644630432, 0.06827371567487717, -0.08110962063074112, -0.0002430788881611079, -0.0026019869837909937, 0.021632621064782143, 0.018613772466778755, 0.005406282842159271, 0.008600144647061825, -0.05482134595513344, -0.001607241458259523, 0.019503293558955193, 0.011161885224282742, -0.03478837013244629, -0.0296559389680624, 0.009432980790734291, -0.004730106331408024, -0.009563477709889412, -0.02889723889529705, 0.018234731629490852, -0.05373305454850197, 0.04992169514298439, 0.015174548141658306, -0.012218526564538479, -0.03936771675944328, -0.017829107120633125, -0.012593280524015427, -0.03522980958223343, 0.015881214290857315, 0.027207326143980026, 0.03222358599305153, -0.029802734032273293, -0.013283077627420425, -0.017322853207588196, -0.007744449656456709, -0.029652711004018784, -0.003968958742916584, -0.0002516087261028588, -0.016964029520750046, 0.06057104095816612, 0.025926081463694572, -0.01624383218586445, 0.048807863146066666, -0.07821013778448105, 0.0076615880243480206, 0.024504084140062332, 0.06218978390097618, -0.024236934259533882, -0.027578430250287056, -0.016785064712166786, 0.011569594033062458, -0.0011424565454944968, -0.03219851851463318, 0.01683475635945797, -0.06426291912794113, -0.045012202113866806, -0.018889302387833595, 0.0033730834256857634, 0.08327373117208481, -0.008741832338273525, -0.012853620573878288, -0.022194258868694305, -0.013637743890285492, -0.0114491181448102, 0.005819325335323811, -0.04626818746328354, 0.01063199806958437, 0.01296909712255001, 0.03821880370378494, -0.0022912498097866774, 0.015075715258717537, 0.0019110154826194048, -0.037679363042116165, -0.07249949872493744, -0.008411651477217674, 0.036969710141420364, -0.017558541148900986, 0.06880615651607513, 0.021453995257616043, 0.015587957575917244, 0.05685378238558769, 0.02921106293797493, 0.008100999519228935, 0.02570236660540104, 0.017727047204971313, 0.01234451774507761, -0.006845033727586269, -0.028087645769119263, 0.014013214968144894, 0.013951902277767658, 0.02480282634496689, 0.03259957209229469, -0.012523770332336426, -0.004361061379313469, -0.009915872476994991, 0.002845129230991006, -0.01679791323840618, -0.03014324977993965, 0.016170494258403778, 0.05340953543782234, -0.028381770476698875, 0.01785486377775669, 0.010577579028904438, -0.021634142845869064, -0.01610080897808075, 0.01108335517346859, -0.06762564182281494, 0.059287507086992264, -0.010530319064855576, 0.012286404147744179, -0.003910618368536234, 0.008294194005429745, 0.0352652482688427, -0.01223218347877264, -0.020732710137963295, -0.031160060316324234, 0.010900866240262985, -0.0004538192879408598, -0.03687279671430588, -0.031288400292396545, -0.026243386790156364, 0.008714023046195507, -0.006769693922251463, -0.0008914829813875258, 0.013175816275179386, -0.017217349261045456, -0.04085804149508476, -0.044064559042453766, 0.04710857942700386, -0.07334364950656891, 0.010102080181241035, -0.06431170552968979, -0.03115874156355858, 0.07408101856708527, -0.06896299123764038, -0.023887233808636665, 0.015100236982107162, 0.0981069877743721, 7.635969086550176e-05, -0.06588447839021683, -0.018784992396831512, -0.042849209159612656, -0.01517377607524395, 0.03276831656694412, 0.03476932644844055, 0.01945468783378601, -0.035235051065683365, -0.04279064014554024, -0.027638709172606468, 0.052593331784009933, -0.013698631897568703, -0.023015765473246574, 0.002235561143606901, -0.02413935959339142, 0.019655780866742134, -0.050136931240558624, 0.0398956723511219, -0.06709928810596466, -0.019642218947410583, -0.006665416527539492, -0.0030731200240552425, -0.055939774960279465, -0.04594261571764946, -0.007018093951046467, -0.009679945185780525, -0.0900471955537796, -0.004296568222343922, -0.026762720197439194, 0.013158771209418774, -0.008696409873664379, -0.023996274918317795, -0.07957110553979874, 0.04904182627797127, -0.026166891679167747, -0.02395893819630146, 0.041078776121139526, -0.03358325734734535, 0.018022961914539337, -0.014274196699261665, -0.01139079499989748, 0.05500442907214165, -0.0033767756540328264, -0.0045232586562633514, 0.04888887703418732, -0.030169058591127396, -0.02471589297056198, -0.013285457156598568, 0.004581536632031202, 0.05256747826933861, -0.04146486893296242, 0.03569864109158516, 0.03172888606786728, 0.022127540782094002, 0.011092000640928745, -0.026061909273266792, 0.005483794491738081, -0.01875240169465542, -0.03407023847103119, -0.05245083570480347, -0.07468504458665848, 0.01925637386739254, 0.01093063224107027, 0.060895491391420364, -0.002815062180161476, 0.03415971249341965, 0.012567945756018162, -0.00694113876670599, 0.019576186314225197, 0.01606770046055317, -0.035101715475320816, 0.021435538306832314, -0.07849910855293274, -0.037819888442754745, -0.032176367938518524, -0.03552018851041794, 0.02024465799331665, 5.568444248638116e-05, 0.010879771783947945, -0.02721724659204483, -0.017689580097794533, -0.0009672179003246129, 0.04210832715034485, 0.01885383017361164, -0.03063843585550785, 0.028566690161824226, 0.040422603487968445, -0.04682577773928642, -0.08438973873853683, 0.0513431653380394, -0.05905357748270035, 0.050269030034542084, 0.06808414310216904, 0.023491259664297104, 0.007946466095745564, -0.0595371350646019, 0.04055815190076828, -0.04486166685819626, 0.08326678723096848, 0.01574948988854885, 0.0030636931769549847, 0.010640856809914112, -0.01109244953840971, 0.042471013963222504, -0.016391314566135406, -0.03567041456699371, 0.02938380278646946, 0.04604053497314453, 0.002785033080726862, 0.020644642412662506, 0.025102337822318077, -5.933409489505239e-33, -0.024001000449061394, -0.018269751220941544, -0.011575207114219666, 0.032587409019470215, 0.062499821186065674, 0.0166831873357296, -0.018460720777511597, -0.0062734028324484825, -0.011595267802476883, -0.011493266560137272, -0.02407977171242237, -0.009887880645692348, 0.04713805019855499, -0.0023409207351505756, -0.018301760777831078, 0.029342491179704666, 0.03685242310166359, -0.025238126516342163, -0.03098459541797638, -0.038825735449790955, -0.061429064720869064, -0.04164130613207817, 0.0525314025580883, 0.009171565063297749, 0.0077742841094732285, -0.005371564533561468, -0.012983077205717564, -0.06309033930301666, -0.03462981432676315, 0.006059132516384125, 0.017732221633195877, -0.04167637974023819, 0.00188155984506011, 0.018784431740641594, 0.006285386625677347, 0.09272046387195587, -0.05162036046385765, -0.04394695162773132, 0.004336963873356581, 0.0290269386023283, -0.0331403873860836, 0.01156485266983509, -0.008395357988774776, -0.055034421384334564, 0.014819955453276634, -0.027484696358442307, -0.010173087008297443, 0.020949382334947586, -0.04530283436179161, -0.000649809546303004, -0.06503001600503922, 0.018690718337893486, -0.0031959598418325186, 0.07678434997797012, 0.020966345444321632, 0.05791880190372467, 0.0018411728087812662, -0.11284709721803665, -0.033360905945301056, -0.013443387113511562, 0.053652435541152954, 0.007487364113330841, 0.02731962502002716, -0.04490707814693451, 0.0029499356169253588, 0.011659268289804459, -0.05776103585958481, 0.11195841431617737, 0.03174969181418419, -0.042689017951488495, 0.07711008191108704, 0.015468756668269634, 0.022131986916065216, 0.06470634043216705, -0.004313307348638773, 0.0008151641231961548, 0.036459602415561676, 0.055255647748708725, 0.04507368803024292, 0.02727205492556095, 0.027928093448281288, -0.03785425424575806, -0.04701897129416466, -0.019282709807157516, -0.03578215464949608, -0.03492717817425728, -0.021034572273492813, -0.036829765886068344, 0.03234703093767166, 0.0006681244121864438, 0.034506577998399734, 0.033645834773778915, -0.014016306959092617, -0.0038342992775142193, -0.006102881394326687, 0.04318412393331528, -0.0076341889798641205, 0.020867599174380302, -0.04690069332718849, -0.06625126302242279, -0.022875117138028145, -0.02231929451227188, 0.04661398008465767, 0.01695398800075054, 0.03459367901086807, -0.010226973332464695, 0.011531294323503971, -0.02231651172041893, -0.08706127852201462, -0.009941228665411472, 0.01936323754489422, 0.019819747656583786, 0.04798027127981186, -0.02610890008509159, 0.0018012027721852064, 0.02787517011165619, 0.04242931678891182, -0.005189267918467522, -0.019823383539915085, -0.09299398958683014, -0.007746402639895678, 0.020323259755969048, 0.01036264281719923, -0.004718954209238291, 0.0178525410592556, -0.00955087598413229, 0.010867645032703876, 0.020114172250032425, 0.041950467973947525, 0.017006559297442436, 0.02557504177093506, 0.041161201894283295, 2.1937923122550274e-07, 0.04668378829956055, 0.05986524000763893, -0.0017903855768963695, 0.044507209211587906, 0.020549599081277847, -0.06274866312742233, -0.027411779388785362, 0.03065025620162487, 0.012108580209314823, 0.02638191357254982, 0.023487277328968048, -0.054345402866601944, 0.04075970873236656, 0.06828777492046356, -0.04877593368291855, 0.006711417809128761, 0.0033981280867010355, -0.026135750114917755, -0.002695047529414296, -0.020351659506559372, 0.03207656368613243, -0.007281223777681589, 0.004395939409732819, -0.013535422272980213, -0.0012210712302476168, -0.017189450562000275, -0.006443810649216175, -0.02757716365158558, -0.01881600171327591, -0.02269691228866577, -0.0016465927474200726, -0.015567257069051266, 0.030649008229374886, 0.08345631510019302, -0.05150892212986946, -0.006219973787665367, 0.015209868550300598, 0.07055515050888062, 0.008788739331066608, 0.052301280200481415, 0.020923255011439323, -0.07696112990379333, -0.00799653958529234, -0.009195554070174694, 0.03455744683742523, 0.06591443717479706, 0.06452194601297379, -0.029098760336637497, -0.06825067847967148, -0.054513514041900635, 0.026412885636091232, -0.008665183559060097, 0.025003284215927124, 0.005197369027882814, 0.011412914842367172, -0.06145741790533066, -0.008846854791045189, 0.04972582310438156, 0.03543190658092499, 0.03754955902695656, -0.041578274220228195, 0.011635958217084408, 0.019122760742902756, 0.019156452268362045, 0.020189879462122917, -0.023114047944545746, 0.0006883947644382715, 1.7672966373606576e-34, -0.003413708182051778, -0.029410546645522118, -0.0033264944795519114, -0.02278103306889534, -0.007766923401504755, -0.017573965713381767, 0.10172576457262039, 0.03783346712589264, -0.011550093069672585, -0.058781858533620834, -0.011569174937903881]\n",
      "[[-0.04895178973674774, -0.03986210376024246, -0.021562790498137474, 0.009908553212881088, -0.03810388222336769, 0.012684348970651627, 0.04349441081285477, 0.07183387875556946, 0.0097486088052392, -0.006987079046666622, 0.06352805346250534, -0.030322600156068802, 0.013839391991496086, 0.025805896148085594, -0.0011363003868609667, -0.014563580974936485, 0.04164035618305206, 0.03622828796505928, -0.026800865307450294, 0.025120755657553673, -0.024978606030344963, -0.004533299244940281, -0.026667160913348198, 0.004100671969354153, -0.05204806476831436, -0.009930499829351902, -0.052065346390008926, 0.00899211224168539, -0.03830048441886902, -0.04405849426984787, -0.004204418044537306, 0.07047972083091736, 0.005133940372616053, -0.07161541283130646, 1.6975303651634022e-06, -0.006047751288861036, -0.011076485738158226, 0.01751335896551609, -0.022299837321043015, 0.040954891592264175, 0.03379017487168312, 0.056650370359420776, -0.07114940136671066, 0.040976617485284805, -0.00590606639161706, -0.03297027572989464, -0.04011695086956024, 0.03690550848841667, 0.010444712825119495, 0.07072383910417557, 0.0019001101609319448, -0.012058253400027752, 0.04288388788700104, -0.04503338038921356, 0.1064680740237236, -0.0059485300444066525, -0.01179715059697628, 0.025893699377775192, 0.039045531302690506, -0.012367877177894115, 0.01538147870451212, -0.03134288266301155, -0.005073245614767075, -0.012316258624196053, -0.002449914813041687, -0.028718918561935425, 0.05035024508833885, -0.051213569939136505, 0.03743274137377739, 0.008315310813486576, 0.11104633659124374, 0.008446861989796162, 0.001980564324185252, 0.06406249850988388, -0.020247889682650566, 0.056444201618433, -0.012311547994613647, -0.0362594909965992, 0.028170764446258545, -0.02553672157227993, 0.02344047836959362, -0.03746702894568443, -0.0350409559905529, -0.026759255677461624, -0.023836130276322365, -0.003887712024152279, -0.03292236104607582, -0.03017790988087654, -0.000955974857788533, 0.018003271892666817, 0.002900162013247609, -0.03479483351111412, -0.025890838354825974, 1.9768873244174756e-05, 0.07750261574983597, -0.01567283645272255, -0.05644113942980766, -0.12369345128536224, 0.07443559914827347, 0.014530880376696587, 0.041560180485248566, -0.02486182563006878, -0.022402776405215263, 0.0585678368806839, -0.032466400414705276, 0.04108654335141182, 0.07884998619556427, 0.013646424748003483, 0.009003639221191406, 0.09833754599094391, 0.008421963080763817, 0.004841282963752747, -0.038118619471788406, -0.002562454901635647, 0.041239719837903976, -0.024173425510525703, 0.029495539143681526, 0.0049819000996649265, 0.007007910870015621, 0.07850858569145203, 0.01847205124795437, -0.021663744002580643, -0.02591213956475258, 0.009712688624858856, -0.025766639038920403, -0.05966674163937569, 0.009273851290345192, -0.02452508546411991, 0.026520490646362305, -0.04336712881922722, 0.020822729915380478, 0.028102701529860497, 0.03256068006157875, 0.029697565361857414, -0.012654068879783154, 0.027797212824225426, 0.0390072725713253, -0.03650740534067154, 0.0027240316849201918, -0.013410951942205429, 0.05861574411392212, 0.019778799265623093, 0.022310268133878708, 0.015110366977751255, -0.025659823790192604, 0.030828364193439484, 0.0026782217901200056, -0.0154350521042943, 0.014331676065921783, 0.027425702661275864, -0.009568563662469387, 0.027056152001023293, 0.002763566793873906, 0.00731115136295557, 0.002585017355158925, -0.025712616741657257, 0.01893508806824684, -0.027686573565006256, -0.013943268917500973, -0.016881383955478668, 0.015971094369888306, -0.010773380286991596, 0.00030835045618005097, -0.02504624053835869, 0.014220336452126503, 0.03993041068315506, 0.011746745556592941, 0.004333543591201305, -0.01856340281665325, -0.017303023487329483, -0.05586622655391693, -0.009961985051631927, -0.01503619272261858, 0.06309200078248978, -0.013529088348150253, 0.08178046345710754, 0.05368642136454582, -0.041810229420661926, -0.05746389925479889, 0.054850220680236816, -0.006377500016242266, -0.033537548035383224, -0.026076678186655045, 0.0094642024487257, -0.03805089369416237, 0.03635936975479126, -0.05167917162179947, -0.05559728667140007, 0.00756079563871026, -0.008204030804336071, -0.06730563938617706, 0.011553785763680935, 0.004411429166793823, -0.012197236530482769, 0.004297870211303234, 0.038411591202020645, -0.03532826527953148, -0.0017625504406169057, -0.007743236143141985, -0.013675795868039131, 0.029633427038788795, 0.013926828280091286, 0.08107908815145493, 0.06564442068338394, 0.012034821324050426, -0.022493306547403336, 0.04180241376161575, -0.050419457256793976, -0.0006258705398067832, 0.029372816905379295, 0.1327812671661377, 0.007509625516831875, -0.05461335927248001, -0.013333696871995926, -0.005744608119130135, -0.03262351080775261, 0.0006984153878875077, 0.014694883488118649, -0.004533669911324978, 0.014108825474977493, 0.0018380251713097095, -0.06389152258634567, -0.029242267832159996, 0.04146278649568558, 0.00594101008027792, -0.11854624003171921, -0.016911620274186134, 0.024552403017878532, 0.04042096808552742, -0.020359205082058907, -0.045201193541288376, -0.0038475366309285164, 0.024601301178336143, 0.08124662190675735, 0.012816205620765686, 0.014872714877128601, 0.02847789041697979, 0.0031826926860958338, -0.024709563702344894, -0.08805378526449203, -0.0106115797534585, 0.03667034953832626, 0.0029583971481770277, 0.040064409375190735, -0.04548342525959015, -0.03464100882411003, -0.0021476391702890396, -0.036805834621191025, 0.014849890023469925, -0.020416665822267532, -0.014622466638684273, -0.0026513589546084404, -0.0449196994304657, -0.001327086822129786, 0.01116494182497263, 0.018211452290415764, 0.01183350570499897, -0.0018385725561529398, -0.01894283853471279, -0.0108595946803689, 0.007092228624969721, -0.005436729174107313, -0.0034827347844839096, -0.029499715194106102, 0.04902755096554756, 0.02122051827609539, -0.030143562704324722, -0.058468613773584366, -0.009746483527123928, -0.0049196816980838776, 0.0247146338224411, 0.004927182104438543, -0.020345162600278854, -0.018120571970939636, 0.016093755140900612, -0.05284435302019119, -0.04534485191106796, -0.011491462588310242, -0.025784937664866447, 0.0163059551268816, -0.030355429276823997, 0.03911561891436577, -0.026777368038892746, -0.005285929422825575, 0.005916563794016838, 0.04165317490696907, 0.005182859022170305, -0.01777726598083973, -0.04496511071920395, 0.062129270285367966, 0.04249228909611702, 0.013894281350076199, 0.057562220841646194, 0.002197797177359462, -0.007051078137010336, -0.01961544342339039, -0.044110242277383804, 0.04907446727156639, 0.01307865884155035, 0.057615894824266434, -0.01976867951452732, 0.01929476112127304, -0.021671244874596596, -0.019971365109086037, 0.025627141818404198, 0.07862606644630432, 0.06827371567487717, -0.08110962063074112, -0.0002430788881611079, -0.0026019869837909937, 0.021632621064782143, 0.018613772466778755, 0.005406282842159271, 0.008600144647061825, -0.05482134595513344, -0.001607241458259523, 0.019503293558955193, 0.011161885224282742, -0.03478837013244629, -0.0296559389680624, 0.009432980790734291, -0.004730106331408024, -0.009563477709889412, -0.02889723889529705, 0.018234731629490852, -0.05373305454850197, 0.04992169514298439, 0.015174548141658306, -0.012218526564538479, -0.03936771675944328, -0.017829107120633125, -0.012593280524015427, -0.03522980958223343, 0.015881214290857315, 0.027207326143980026, 0.03222358599305153, -0.029802734032273293, -0.013283077627420425, -0.017322853207588196, -0.007744449656456709, -0.029652711004018784, -0.003968958742916584, -0.0002516087261028588, -0.016964029520750046, 0.06057104095816612, 0.025926081463694572, -0.01624383218586445, 0.048807863146066666, -0.07821013778448105, 0.0076615880243480206, 0.024504084140062332, 0.06218978390097618, -0.024236934259533882, -0.027578430250287056, -0.016785064712166786, 0.011569594033062458, -0.0011424565454944968, -0.03219851851463318, 0.01683475635945797, -0.06426291912794113, -0.045012202113866806, -0.018889302387833595, 0.0033730834256857634, 0.08327373117208481, -0.008741832338273525, -0.012853620573878288, -0.022194258868694305, -0.013637743890285492, -0.0114491181448102, 0.005819325335323811, -0.04626818746328354, 0.01063199806958437, 0.01296909712255001, 0.03821880370378494, -0.0022912498097866774, 0.015075715258717537, 0.0019110154826194048, -0.037679363042116165, -0.07249949872493744, -0.008411651477217674, 0.036969710141420364, -0.017558541148900986, 0.06880615651607513, 0.021453995257616043, 0.015587957575917244, 0.05685378238558769, 0.02921106293797493, 0.008100999519228935, 0.02570236660540104, 0.017727047204971313, 0.01234451774507761, -0.006845033727586269, -0.028087645769119263, 0.014013214968144894, 0.013951902277767658, 0.02480282634496689, 0.03259957209229469, -0.012523770332336426, -0.004361061379313469, -0.009915872476994991, 0.002845129230991006, -0.01679791323840618, -0.03014324977993965, 0.016170494258403778, 0.05340953543782234, -0.028381770476698875, 0.01785486377775669, 0.010577579028904438, -0.021634142845869064, -0.01610080897808075, 0.01108335517346859, -0.06762564182281494, 0.059287507086992264, -0.010530319064855576, 0.012286404147744179, -0.003910618368536234, 0.008294194005429745, 0.0352652482688427, -0.01223218347877264, -0.020732710137963295, -0.031160060316324234, 0.010900866240262985, -0.0004538192879408598, -0.03687279671430588, -0.031288400292396545, -0.026243386790156364, 0.008714023046195507, -0.006769693922251463, -0.0008914829813875258, 0.013175816275179386, -0.017217349261045456, -0.04085804149508476, -0.044064559042453766, 0.04710857942700386, -0.07334364950656891, 0.010102080181241035, -0.06431170552968979, -0.03115874156355858, 0.07408101856708527, -0.06896299123764038, -0.023887233808636665, 0.015100236982107162, 0.0981069877743721, 7.635969086550176e-05, -0.06588447839021683, -0.018784992396831512, -0.042849209159612656, -0.01517377607524395, 0.03276831656694412, 0.03476932644844055, 0.01945468783378601, -0.035235051065683365, -0.04279064014554024, -0.027638709172606468, 0.052593331784009933, -0.013698631897568703, -0.023015765473246574, 0.002235561143606901, -0.02413935959339142, 0.019655780866742134, -0.050136931240558624, 0.0398956723511219, -0.06709928810596466, -0.019642218947410583, -0.006665416527539492, -0.0030731200240552425, -0.055939774960279465, -0.04594261571764946, -0.007018093951046467, -0.009679945185780525, -0.0900471955537796, -0.004296568222343922, -0.026762720197439194, 0.013158771209418774, -0.008696409873664379, -0.023996274918317795, -0.07957110553979874, 0.04904182627797127, -0.026166891679167747, -0.02395893819630146, 0.041078776121139526, -0.03358325734734535, 0.018022961914539337, -0.014274196699261665, -0.01139079499989748, 0.05500442907214165, -0.0033767756540328264, -0.0045232586562633514, 0.04888887703418732, -0.030169058591127396, -0.02471589297056198, -0.013285457156598568, 0.004581536632031202, 0.05256747826933861, -0.04146486893296242, 0.03569864109158516, 0.03172888606786728, 0.022127540782094002, 0.011092000640928745, -0.026061909273266792, 0.005483794491738081, -0.01875240169465542, -0.03407023847103119, -0.05245083570480347, -0.07468504458665848, 0.01925637386739254, 0.01093063224107027, 0.060895491391420364, -0.002815062180161476, 0.03415971249341965, 0.012567945756018162, -0.00694113876670599, 0.019576186314225197, 0.01606770046055317, -0.035101715475320816, 0.021435538306832314, -0.07849910855293274, -0.037819888442754745, -0.032176367938518524, -0.03552018851041794, 0.02024465799331665, 5.568444248638116e-05, 0.010879771783947945, -0.02721724659204483, -0.017689580097794533, -0.0009672179003246129, 0.04210832715034485, 0.01885383017361164, -0.03063843585550785, 0.028566690161824226, 0.040422603487968445, -0.04682577773928642, -0.08438973873853683, 0.0513431653380394, -0.05905357748270035, 0.050269030034542084, 0.06808414310216904, 0.023491259664297104, 0.007946466095745564, -0.0595371350646019, 0.04055815190076828, -0.04486166685819626, 0.08326678723096848, 0.01574948988854885, 0.0030636931769549847, 0.010640856809914112, -0.01109244953840971, 0.042471013963222504, -0.016391314566135406, -0.03567041456699371, 0.02938380278646946, 0.04604053497314453, 0.002785033080726862, 0.020644642412662506, 0.025102337822318077, -5.933409489505239e-33, -0.024001000449061394, -0.018269751220941544, -0.011575207114219666, 0.032587409019470215, 0.062499821186065674, 0.0166831873357296, -0.018460720777511597, -0.0062734028324484825, -0.011595267802476883, -0.011493266560137272, -0.02407977171242237, -0.009887880645692348, 0.04713805019855499, -0.0023409207351505756, -0.018301760777831078, 0.029342491179704666, 0.03685242310166359, -0.025238126516342163, -0.03098459541797638, -0.038825735449790955, -0.061429064720869064, -0.04164130613207817, 0.0525314025580883, 0.009171565063297749, 0.0077742841094732285, -0.005371564533561468, -0.012983077205717564, -0.06309033930301666, -0.03462981432676315, 0.006059132516384125, 0.017732221633195877, -0.04167637974023819, 0.00188155984506011, 0.018784431740641594, 0.006285386625677347, 0.09272046387195587, -0.05162036046385765, -0.04394695162773132, 0.004336963873356581, 0.0290269386023283, -0.0331403873860836, 0.01156485266983509, -0.008395357988774776, -0.055034421384334564, 0.014819955453276634, -0.027484696358442307, -0.010173087008297443, 0.020949382334947586, -0.04530283436179161, -0.000649809546303004, -0.06503001600503922, 0.018690718337893486, -0.0031959598418325186, 0.07678434997797012, 0.020966345444321632, 0.05791880190372467, 0.0018411728087812662, -0.11284709721803665, -0.033360905945301056, -0.013443387113511562, 0.053652435541152954, 0.007487364113330841, 0.02731962502002716, -0.04490707814693451, 0.0029499356169253588, 0.011659268289804459, -0.05776103585958481, 0.11195841431617737, 0.03174969181418419, -0.042689017951488495, 0.07711008191108704, 0.015468756668269634, 0.022131986916065216, 0.06470634043216705, -0.004313307348638773, 0.0008151641231961548, 0.036459602415561676, 0.055255647748708725, 0.04507368803024292, 0.02727205492556095, 0.027928093448281288, -0.03785425424575806, -0.04701897129416466, -0.019282709807157516, -0.03578215464949608, -0.03492717817425728, -0.021034572273492813, -0.036829765886068344, 0.03234703093767166, 0.0006681244121864438, 0.034506577998399734, 0.033645834773778915, -0.014016306959092617, -0.0038342992775142193, -0.006102881394326687, 0.04318412393331528, -0.0076341889798641205, 0.020867599174380302, -0.04690069332718849, -0.06625126302242279, -0.022875117138028145, -0.02231929451227188, 0.04661398008465767, 0.01695398800075054, 0.03459367901086807, -0.010226973332464695, 0.011531294323503971, -0.02231651172041893, -0.08706127852201462, -0.009941228665411472, 0.01936323754489422, 0.019819747656583786, 0.04798027127981186, -0.02610890008509159, 0.0018012027721852064, 0.02787517011165619, 0.04242931678891182, -0.005189267918467522, -0.019823383539915085, -0.09299398958683014, -0.007746402639895678, 0.020323259755969048, 0.01036264281719923, -0.004718954209238291, 0.0178525410592556, -0.00955087598413229, 0.010867645032703876, 0.020114172250032425, 0.041950467973947525, 0.017006559297442436, 0.02557504177093506, 0.041161201894283295, 2.1937923122550274e-07, 0.04668378829956055, 0.05986524000763893, -0.0017903855768963695, 0.044507209211587906, 0.020549599081277847, -0.06274866312742233, -0.027411779388785362, 0.03065025620162487, 0.012108580209314823, 0.02638191357254982, 0.023487277328968048, -0.054345402866601944, 0.04075970873236656, 0.06828777492046356, -0.04877593368291855, 0.006711417809128761, 0.0033981280867010355, -0.026135750114917755, -0.002695047529414296, -0.020351659506559372, 0.03207656368613243, -0.007281223777681589, 0.004395939409732819, -0.013535422272980213, -0.0012210712302476168, -0.017189450562000275, -0.006443810649216175, -0.02757716365158558, -0.01881600171327591, -0.02269691228866577, -0.0016465927474200726, -0.015567257069051266, 0.030649008229374886, 0.08345631510019302, -0.05150892212986946, -0.006219973787665367, 0.015209868550300598, 0.07055515050888062, 0.008788739331066608, 0.052301280200481415, 0.020923255011439323, -0.07696112990379333, -0.00799653958529234, -0.009195554070174694, 0.03455744683742523, 0.06591443717479706, 0.06452194601297379, -0.029098760336637497, -0.06825067847967148, -0.054513514041900635, 0.026412885636091232, -0.008665183559060097, 0.025003284215927124, 0.005197369027882814, 0.011412914842367172, -0.06145741790533066, -0.008846854791045189, 0.04972582310438156, 0.03543190658092499, 0.03754955902695656, -0.041578274220228195, 0.011635958217084408, 0.019122760742902756, 0.019156452268362045, 0.020189879462122917, -0.023114047944545746, 0.0006883947644382715, 1.7672966373606576e-34, -0.003413708182051778, -0.029410546645522118, -0.0033264944795519114, -0.02278103306889534, -0.007766923401504755, -0.017573965713381767, 0.10172576457262039, 0.03783346712589264, -0.011550093069672585, -0.058781858533620834, -0.011569174937903881]]\n"
     ]
    }
   ],
   "source": [
    "from langchain.embeddings import HuggingFaceEmbeddings\n",
    "\n",
    "embeddings = HuggingFaceEmbeddings()\n",
    "\n",
    "text = \"This is a test document.\"\n",
    "\n",
    "query_result = embeddings.embed_query(text)\n",
    "\n",
    "doc_result = embeddings.embed_documents([text])\n",
    "\n",
    "print(query_result)\n",
    "print(doc_result)"
   ]
  },
  {
   "attachments": {},
   "cell_type": "markdown",
   "metadata": {},
   "source": [
    "#### Vector stores\n",
    "\n",
    "向量数据库就是存储、查询、计算向量的数据库。"
   ]
  },
  {
   "cell_type": "code",
   "execution_count": 18,
   "metadata": {},
   "outputs": [],
   "source": [
    "from langchain.document_loaders import TextLoader\n",
    "from langchain.embeddings.openai import OpenAIEmbeddings\n",
    "from langchain.text_splitter import CharacterTextSplitter\n",
    "from langchain.vectorstores import FAISS, Redis\n",
    "\n",
    "\n",
    "raw_documents = TextLoader('./example_data/state_of_the_union.txt').load()\n",
    "text_splitter = CharacterTextSplitter(chunk_size=1000, chunk_overlap=0)\n",
    "documents = text_splitter.split_documents(raw_documents)\n",
    "\n",
    "db = FAISS.from_documents(documents, OpenAIEmbeddings())"
   ]
  },
  {
   "cell_type": "code",
   "execution_count": 5,
   "metadata": {},
   "outputs": [
    {
     "name": "stdout",
     "output_type": "stream",
     "text": [
      "Tonight. I call on the Senate to: Pass the Freedom to Vote Act. Pass the John Lewis Voting Rights Act. And while you’re at it, pass the Disclose Act so Americans can know who is funding our elections. \n",
      "\n",
      "Tonight, I’d like to honor someone who has dedicated his life to serve this country: Justice Stephen Breyer—an Army veteran, Constitutional scholar, and retiring Justice of the United States Supreme Court. Justice Breyer, thank you for your service. \n",
      "\n",
      "One of the most serious constitutional responsibilities a President has is nominating someone to serve on the United States Supreme Court. \n",
      "\n",
      "And I did that 4 days ago, when I nominated Circuit Court of Appeals Judge Ketanji Brown Jackson. One of our nation’s top legal minds, who will continue Justice Breyer’s legacy of excellence.\n"
     ]
    }
   ],
   "source": [
    "query = \"What did the president say about Ketanji Brown Jackson\"\n",
    "docs = db.similarity_search(query)\n",
    "print(docs[0].page_content)"
   ]
  },
  {
   "cell_type": "code",
   "execution_count": 20,
   "metadata": {},
   "outputs": [],
   "source": [
    "rds = Redis.from_documents(\n",
    "    docs, embeddings, redis_url=\"redis://localhost:6379\", index_name=\"link\"\n",
    ")\n",
    "\n",
    "texts = [d.page_content for d in docs]\n",
    "metadatas = [d.metadata for d in docs]\n",
    "\n",
    "rds, keys = Redis.from_texts_return_keys(texts,\n",
    "                                    OpenAIEmbeddings(),\n",
    "                                    redis_url=\"redis://localhost:6379\",\n",
    "                                    index_name=\"link\")"
   ]
  },
  {
   "cell_type": "code",
   "execution_count": 21,
   "metadata": {},
   "outputs": [
    {
     "data": {
      "text/plain": [
       "'link'"
      ]
     },
     "execution_count": 21,
     "metadata": {},
     "output_type": "execute_result"
    }
   ],
   "source": [
    "rds.index_name"
   ]
  },
  {
   "cell_type": "code",
   "execution_count": 22,
   "metadata": {},
   "outputs": [
    {
     "name": "stdout",
     "output_type": "stream",
     "text": [
      "Tonight. I call on the Senate to: Pass the Freedom to Vote Act. Pass the John Lewis Voting Rights Act. And while you’re at it, pass the Disclose Act so Americans can know who is funding our elections. \n",
      "\n",
      "Tonight, I’d like to honor someone who has dedicated his life to serve this country: Justice Stephen Breyer—an Army veteran, Constitutional scholar, and retiring Justice of the United States Supreme Court. Justice Breyer, thank you for your service. \n",
      "\n",
      "One of the most serious constitutional responsibilities a President has is nominating someone to serve on the United States Supreme Court. \n",
      "\n",
      "And I did that 4 days ago, when I nominated Circuit Court of Appeals Judge Ketanji Brown Jackson. One of our nation’s top legal minds, who will continue Justice Breyer’s legacy of excellence.\n"
     ]
    }
   ],
   "source": [
    "query = \"What did the president say about Ketanji Brown Jackson\"\n",
    "results = rds.similarity_search(query)\n",
    "print(results[0].page_content)"
   ]
  },
  {
   "cell_type": "code",
   "execution_count": 23,
   "metadata": {},
   "outputs": [
    {
     "name": "stdout",
     "output_type": "stream",
     "text": [
      "['doc:link:5459054cca3944ad9ca610c6829f62b9']\n"
     ]
    }
   ],
   "source": [
    "print(rds.add_texts([\"Ankush went to Princeton\"]))"
   ]
  },
  {
   "cell_type": "code",
   "execution_count": 24,
   "metadata": {},
   "outputs": [
    {
     "name": "stdout",
     "output_type": "stream",
     "text": [
      "Ankush went to Princeton\n"
     ]
    }
   ],
   "source": [
    "query = \"Princeton\"\n",
    "results = rds.similarity_search(query)\n",
    "print(results[0].page_content)"
   ]
  },
  {
   "cell_type": "code",
   "execution_count": 26,
   "metadata": {},
   "outputs": [
    {
     "name": "stdout",
     "output_type": "stream",
     "text": [
      "Tonight. I call on the Senate to: Pass the Freedom to Vote Act. Pass the John Lewis Voting Rights Act. And while you’re at it, pass the Disclose Act so Americans can know who is funding our elections. \n",
      "\n",
      "Tonight, I’d like to honor someone who has dedicated his life to serve this country: Justice Stephen Breyer—an Army veteran, Constitutional scholar, and retiring Justice of the United States Supreme Court. Justice Breyer, thank you for your service. \n",
      "\n",
      "One of the most serious constitutional responsibilities a President has is nominating someone to serve on the United States Supreme Court. \n",
      "\n",
      "And I did that 4 days ago, when I nominated Circuit Court of Appeals Judge Ketanji Brown Jackson. One of our nation’s top legal minds, who will continue Justice Breyer’s legacy of excellence.\n"
     ]
    }
   ],
   "source": [
    "# Load from existing index\n",
    "rds = Redis.from_existing_index(\n",
    "    OpenAIEmbeddings(), redis_url=\"redis://localhost:6379\", index_name=\"link\"\n",
    ")\n",
    "\n",
    "query = \"What did the president say about Ketanji Brown Jackson\"\n",
    "results = rds.similarity_search(query)\n",
    "print(results[0].page_content)"
   ]
  },
  {
   "attachments": {},
   "cell_type": "markdown",
   "metadata": {},
   "source": [
    "#### Retrievers\n",
    "\n",
    "检索比向量存储用的更多，向量存储可以用于检索，但是检索的方法有很多。\n",
    "\n",
    "默认使用的向量库是`chromadb`，`VectorstoreIndexCreator`将文档切割、向量化、向量索引建立和存储都一并完成了。"
   ]
  },
  {
   "cell_type": "code",
   "execution_count": 27,
   "metadata": {},
   "outputs": [],
   "source": [
    "from langchain.document_loaders import TextLoader\n",
    "loader = TextLoader('./example_data/state_of_the_union.txt', encoding='utf8')"
   ]
  },
  {
   "cell_type": "code",
   "execution_count": 28,
   "metadata": {},
   "outputs": [],
   "source": [
    "from langchain.indexes import VectorstoreIndexCreator\n",
    "\n",
    "index = VectorstoreIndexCreator().from_loaders([loader])"
   ]
  },
  {
   "cell_type": "code",
   "execution_count": 29,
   "metadata": {},
   "outputs": [
    {
     "data": {
      "text/plain": [
       "\" The president said that Ketanji Brown Jackson is one of the nation's top legal minds, a former top litigator in private practice, a former federal public defender, and from a family of public school educators and police officers. He also said that she is a consensus builder and has received a broad range of support from the Fraternal Order of Police to former judges appointed by Democrats and Republicans.\""
      ]
     },
     "execution_count": 29,
     "metadata": {},
     "output_type": "execute_result"
    }
   ],
   "source": [
    "query = \"What did the president say about Ketanji Brown Jackson\"\n",
    "index.query(query)"
   ]
  },
  {
   "cell_type": "code",
   "execution_count": 30,
   "metadata": {},
   "outputs": [
    {
     "data": {
      "text/plain": [
       "{'question': 'What did the president say about Ketanji Brown Jackson',\n",
       " 'answer': \" The president said that he nominated Circuit Court of Appeals Judge Ketanji Brown Jackson, one of the nation's top legal minds, who will continue Justice Breyer's legacy of excellence, and that she has received a broad range of support from the Fraternal Order of Police to former judges appointed by Democrats and Republicans.\\n\",\n",
       " 'sources': './example_data/state_of_the_union.txt'}"
      ]
     },
     "execution_count": 30,
     "metadata": {},
     "output_type": "execute_result"
    }
   ],
   "source": [
    "query = \"What did the president say about Ketanji Brown Jackson\"\n",
    "index.query_with_sources(query)"
   ]
  },
  {
   "cell_type": "code",
   "execution_count": 31,
   "metadata": {},
   "outputs": [
    {
     "data": {
      "text/plain": [
       "<langchain.vectorstores.chroma.Chroma at 0x2e831918eb0>"
      ]
     },
     "execution_count": 31,
     "metadata": {},
     "output_type": "execute_result"
    }
   ],
   "source": [
    "index.vectorstore"
   ]
  },
  {
   "cell_type": "code",
   "execution_count": 32,
   "metadata": {},
   "outputs": [
    {
     "data": {
      "text/plain": [
       "VectorStoreRetriever(vectorstore=<langchain.vectorstores.chroma.Chroma object at 0x000002E831918EB0>, search_type='similarity', search_kwargs={})"
      ]
     },
     "execution_count": 32,
     "metadata": {},
     "output_type": "execute_result"
    }
   ],
   "source": [
    "index.vectorstore.as_retriever()"
   ]
  },
  {
   "cell_type": "code",
   "execution_count": 33,
   "metadata": {},
   "outputs": [
    {
     "data": {
      "text/plain": [
       "\" The president said that Ketanji Brown Jackson is one of the nation's top legal minds, a former top litigator in private practice, a former federal public defender, and from a family of public school educators and police officers. He said that she is a consensus builder and has received a broad range of support since being nominated.\""
      ]
     },
     "execution_count": 33,
     "metadata": {},
     "output_type": "execute_result"
    }
   ],
   "source": [
    "#  VectorstoreIndexCreator 做了下面这些事情\n",
    "\n",
    "from langchain.chains import RetrievalQA\n",
    "from langchain.llms import OpenAI\n",
    "\n",
    "documents = loader.load()\n",
    "\n",
    "from langchain.text_splitter import CharacterTextSplitter\n",
    "text_splitter = CharacterTextSplitter(chunk_size=1000, chunk_overlap=0)\n",
    "texts = text_splitter.split_documents(documents)\n",
    "\n",
    "\n",
    "from langchain.embeddings import OpenAIEmbeddings\n",
    "embeddings = OpenAIEmbeddings()\n",
    "\n",
    "\n",
    "from langchain.vectorstores import Chroma\n",
    "db = Chroma.from_documents(texts, embeddings)\n",
    "\n",
    "retriever = db.as_retriever()\n",
    "\n",
    "qa = RetrievalQA.from_chain_type(llm=OpenAI(), chain_type=\"stuff\", retriever=retriever)\n",
    "\n",
    "query = \"What did the president say about Ketanji Brown Jackson\"\n",
    "qa.run(query)"
   ]
  },
  {
   "attachments": {},
   "cell_type": "markdown",
   "metadata": {},
   "source": [
    "### [Retrieval QA](https://python.langchain.com/docs/modules/chains/popular/vector_db_qa.html)\n",
    "\n",
    "展示在索引上查询数据的过程"
   ]
  },
  {
   "cell_type": "code",
   "execution_count": 1,
   "metadata": {},
   "outputs": [],
   "source": [
    "from langchain.chains import RetrievalQA\n",
    "from langchain.document_loaders import TextLoader\n",
    "from langchain.embeddings.openai import OpenAIEmbeddings\n",
    "from langchain.llms import OpenAI\n",
    "from langchain.text_splitter import CharacterTextSplitter\n",
    "from langchain.vectorstores import Chroma"
   ]
  },
  {
   "cell_type": "code",
   "execution_count": 3,
   "metadata": {},
   "outputs": [],
   "source": [
    "loader = TextLoader(\"state_of_the_union.txt\")\n",
    "documents = loader.load()\n",
    "text_splitter = CharacterTextSplitter(chunk_size=1000, chunk_overlap=0)\n",
    "texts = text_splitter.split_documents(documents)\n",
    "\n",
    "embeddings = OpenAIEmbeddings()\n",
    "docsearch = Chroma.from_documents(texts, embeddings)\n",
    "\n",
    "qa = RetrievalQA.from_chain_type(llm=OpenAI(), chain_type=\"stuff\", retriever=docsearch.as_retriever())"
   ]
  },
  {
   "cell_type": "code",
   "execution_count": 4,
   "metadata": {},
   "outputs": [
    {
     "data": {
      "text/plain": [
       "\" The President said that Ketanji Brown Jackson is one of the nation's top legal minds, a consensus builder, and has received a broad range of support from the Fraternal Order of Police to former judges appointed by Democrats and Republicans.\""
      ]
     },
     "execution_count": 4,
     "metadata": {},
     "output_type": "execute_result"
    }
   ],
   "source": [
    "query = \"What did the president say about Ketanji Brown Jackson\"\n",
    "qa.run(query)"
   ]
  },
  {
   "attachments": {},
   "cell_type": "markdown",
   "metadata": {},
   "source": [
    "## Querying\n",
    "\n",
    "有大量表格数据同时不想创建并使用索引进行操作，那就可以使用`chains`和`agents`。"
   ]
  },
  {
   "attachments": {},
   "cell_type": "markdown",
   "metadata": {},
   "source": [
    "### Chains\n",
    "\n",
    "链式操作就是按照提前制定计划进行工作的，它方便你更好的控制和了解工具是怎么运行的。"
   ]
  },
  {
   "attachments": {},
   "cell_type": "markdown",
   "metadata": {},
   "source": [
    "#### [SQL Database Chain](https://python.langchain.com/docs/modules/chains/popular/sqlite.html)"
   ]
  },
  {
   "cell_type": "code",
   "execution_count": null,
   "metadata": {},
   "outputs": [],
   "source": []
  },
  {
   "attachments": {},
   "cell_type": "markdown",
   "metadata": {},
   "source": [
    "### Agents\n",
    "\n",
    "代理是非常复杂的，因为它将很多步骤混合在一起，因此它的有缺点也很明显，有点就是功能强大，可以帮你完成很多复杂的工作，缺点就是并不一定会受你控制严格按照预期走。\n",
    "\n",
    "- [SQL Agent](https://python.langchain.com/docs/modules/agents/toolkits/sql_database.html)\n",
    "- [Pandas Agent](https://python.langchain.com/docs/modules/agents/toolkits/pandas.html)\n",
    "- [CSV Agent](https://python.langchain.com/docs/modules/agents/toolkits/csv.html)"
   ]
  },
  {
   "cell_type": "code",
   "execution_count": null,
   "metadata": {},
   "outputs": [],
   "source": []
  }
 ],
 "metadata": {
  "kernelspec": {
   "display_name": "langchain",
   "language": "python",
   "name": "python3"
  },
  "language_info": {
   "codemirror_mode": {
    "name": "ipython",
    "version": 3
   },
   "file_extension": ".py",
   "mimetype": "text/x-python",
   "name": "python",
   "nbconvert_exporter": "python",
   "pygments_lexer": "ipython3",
   "version": "3.9.16"
  },
  "orig_nbformat": 4
 },
 "nbformat": 4,
 "nbformat_minor": 2
}

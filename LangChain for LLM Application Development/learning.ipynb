{
 "cells": [
  {
   "attachments": {},
   "cell_type": "markdown",
   "metadata": {},
   "source": [
    "# LangChain Learning\n",
    "\n",
    "## LangChain: Models, Prompts and Output Parsers\n",
    "\n",
    "- OpenAI 的接口\n",
    "- LangChain 的接口\n",
    "  - model\n",
    "  - prompt\n",
    "  - output parsers"
   ]
  },
  {
   "attachments": {},
   "cell_type": "markdown",
   "metadata": {},
   "source": [
    "### 填写 OpenAI APi key"
   ]
  },
  {
   "cell_type": "code",
   "execution_count": null,
   "metadata": {},
   "outputs": [],
   "source": [
    "#!pip install python-dotenv\n",
    "#!pip install openai"
   ]
  },
  {
   "cell_type": "code",
   "execution_count": 2,
   "metadata": {},
   "outputs": [],
   "source": [
    "import os\n",
    "import openai\n",
    "\n",
    "openai.api_key = os.environ['OPENAI_API_KEY']"
   ]
  },
  {
   "attachments": {},
   "cell_type": "markdown",
   "metadata": {},
   "source": [
    "## OpenAi 的 chat api"
   ]
  },
  {
   "cell_type": "code",
   "execution_count": 3,
   "metadata": {},
   "outputs": [],
   "source": [
    "def get_completion(prompt, model=\"gpt-3.5-turbo\"):\n",
    "    messages = [{\"role\": \"user\", \"content\": prompt}]\n",
    "    response = openai.ChatCompletion.create(\n",
    "        model=model,\n",
    "        messages=messages,\n",
    "        temperature=0, \n",
    "    )\n",
    "    return response.choices[0].message[\"content\"]\n"
   ]
  },
  {
   "cell_type": "code",
   "execution_count": 4,
   "metadata": {},
   "outputs": [
    {
     "data": {
      "text/plain": [
       "'Langchain是一种基于区块链技术的语言交流平台，旨在为全球用户提供高效、安全、便捷的语言学习和交流服务。通过Langchain，用户可以选择自己感兴趣的语言进行学习，并与来自世界各地的语言学习者进行交流和互动。同时，Langchain还提供了一种去中心化的语言认证机制，可以帮助用户证明自己的语言水平，为未来的学习和职业发展打下基础。'"
      ]
     },
     "execution_count": 4,
     "metadata": {},
     "output_type": "execute_result"
    }
   ],
   "source": [
    "get_completion(\"什么是 langchain\")"
   ]
  },
  {
   "cell_type": "code",
   "execution_count": 5,
   "metadata": {},
   "outputs": [],
   "source": [
    "customer_conetent = \"\"\"\n",
    "Langchain是一种基于区块链技术的语言交流平台，\\\n",
    "旨在为全球用户提供高效、安全、便捷的语言学习和交流服务。\\\n",
    "通过Langchain，用户可以选择自己感兴趣的语言进行学习，并与来自世界各地的语言学习者进行交流和互动。\\\n",
    "同时，Langchain还提供了一种去中心化的语言认证机制，可以帮助用户证明自己的语言水平，为未来的学习和职业发展打下基础。\n",
    "\"\"\""
   ]
  },
  {
   "cell_type": "code",
   "execution_count": 15,
   "metadata": {},
   "outputs": [],
   "source": [
    "style = \"简短、口语化\""
   ]
  },
  {
   "cell_type": "code",
   "execution_count": 16,
   "metadata": {},
   "outputs": [
    {
     "name": "stdout",
     "output_type": "stream",
     "text": [
      "\n",
      "用指定的方式重新述说这段话，指定的方式是简短、口语化\n",
      "这段话：```\n",
      "Langchain是一种基于区块链技术的语言交流平台，旨在为全球用户提供高效、安全、便捷的语言学习和交流服务。通过Langchain，用户可以选择自己感兴趣的语言进行学习，并与来自世界各地的语言学习者进行交流和互动。同时，Langchain还提供了一种去中心化的语言认证机制，可以帮助用户证明自己的语言水平，为未来的学习和职业发展打下基础。\n",
      "```\n",
      "\n"
     ]
    }
   ],
   "source": [
    "prompt = f\"\"\"\n",
    "用指定的方式重新述说这段话，指定的方式是{style}\n",
    "这段话：```{customer_conetent}```\n",
    "\"\"\"\n",
    "print(prompt)"
   ]
  },
  {
   "cell_type": "code",
   "execution_count": 17,
   "metadata": {},
   "outputs": [],
   "source": [
    "response = get_completion(prompt)"
   ]
  },
  {
   "cell_type": "code",
   "execution_count": 18,
   "metadata": {},
   "outputs": [
    {
     "name": "stdout",
     "output_type": "stream",
     "text": [
      "Langchain是一个用区块链技术做的语言交流平台，让你可以高效、安全、方便地学习和交流语言。你可以选择自己感兴趣的语言学习，和来自世界各地的语言学习者互动。还有一个去中心化的语言认证机制，可以帮助你证明自己的语言水平，为未来的学习和职业发展打下基础。\n"
     ]
    }
   ],
   "source": [
    "print(response)"
   ]
  },
  {
   "attachments": {},
   "cell_type": "markdown",
   "metadata": {},
   "source": [
    "### LangChain 的 chat api"
   ]
  },
  {
   "cell_type": "code",
   "execution_count": null,
   "metadata": {},
   "outputs": [],
   "source": [
    "#!pip install --upgrade langchain"
   ]
  },
  {
   "attachments": {},
   "cell_type": "markdown",
   "metadata": {},
   "source": [
    "#### Model\n",
    "\n",
    "在LangChain中的模型主要分为三类\n",
    "- LLMs: 基础大模型，可以直接使用openai的text-ada-001、text-davinci-003这些，也包含其他提供方的模型\n",
    "- Chat Models: 对话模型\n",
    "- Text Embedding Models: 文本向量模型"
   ]
  },
  {
   "cell_type": "code",
   "execution_count": 1,
   "metadata": {},
   "outputs": [],
   "source": [
    "from langchain.chat_models import ChatOpenAI"
   ]
  },
  {
   "cell_type": "code",
   "execution_count": 3,
   "metadata": {},
   "outputs": [
    {
     "data": {
      "text/plain": [
       "ChatOpenAI(verbose=False, callbacks=None, callback_manager=None, client=<class 'openai.api_resources.chat_completion.ChatCompletion'>, model_name='gpt-3.5-turbo', temperature=0.0, model_kwargs={}, openai_api_key=None, openai_organization=None, request_timeout=None, max_retries=6, streaming=False, n=1, max_tokens=None)"
      ]
     },
     "execution_count": 3,
     "metadata": {},
     "output_type": "execute_result"
    }
   ],
   "source": [
    "chat = ChatOpenAI(temperature=0.0)\n",
    "chat"
   ]
  },
  {
   "attachments": {},
   "cell_type": "markdown",
   "metadata": {},
   "source": [
    "#### Prompts\n",
    "\n",
    "跟`Model`相似，`Prompt`也是分为了`Prompt Template`和`Chat Prompt Template`两种，主要原因是在chat模式下是有角色区分的。"
   ]
  },
  {
   "attachments": {},
   "cell_type": "markdown",
   "metadata": {},
   "source": [
    "##### Prompt Template"
   ]
  },
  {
   "cell_type": "code",
   "execution_count": 5,
   "metadata": {},
   "outputs": [
    {
     "name": "stdout",
     "output_type": "stream",
     "text": [
      "prompt_template:'input_variables=['animals'] output_parser=None partial_variables={} template='\\n我有一个{animals}宠物，应该起个什么名字？用中文回答:\\n' template_format='f-string' validate_template=True'\n",
      "\n",
      "'\n",
      "\n",
      "我有一个猫宠物，应该起个什么名字？用中文回答:\n",
      " \n",
      "可以取名\"阿猫\"、\"悠悠\"、\"黑猫\"、\"小花\"、\"小黑\"、\"小白\"等。 \n",
      "\n",
      "\n",
      " \n",
      "我有一个狗宠物，应该起个什么名字？用中文回答:\n",
      " \n",
      "我的宠物狗可以取名为“小黑”。\n"
     ]
    }
   ],
   "source": [
    "from langchain.prompts import PromptTemplate\n",
    "from langchain.llms import OpenAI\n",
    "\n",
    "template = \"\"\"\n",
    "我有一个{animals}宠物，应该起个什么名字？用中文回答:\n",
    "\"\"\"\n",
    "prompt_template = PromptTemplate(\n",
    "    input_variables=['animals'],\n",
    "    template=template\n",
    ")\n",
    "print(f\"prompt_template:'{prompt_template}'\\n\\n'\")\n",
    "\n",
    "llm = OpenAI(model_name=\"text-davinci-003\")\n",
    "\n",
    "llm_result = llm.generate([prompt_template.format_prompt(animals='猫').text, prompt_template.format_prompt(animals='狗').text])\n",
    "print(prompt_template.format_prompt(animals='猫').text, llm_result.generations[0][0].text,\n",
    "      '\\n\\n\\n',\n",
    "      prompt_template.format_prompt(animals='狗').text, llm_result.generations[1][0].text)"
   ]
  },
  {
   "attachments": {},
   "cell_type": "markdown",
   "metadata": {},
   "source": [
    "##### Chat Prompt Template"
   ]
  },
  {
   "cell_type": "code",
   "execution_count": 6,
   "metadata": {},
   "outputs": [],
   "source": [
    "template_string = \"\"\"\n",
    "用指定的方式重新述说这段话，指定的方式是{style}\n",
    "这段话：```{customer_conetent}```\n",
    "\"\"\""
   ]
  },
  {
   "cell_type": "code",
   "execution_count": 7,
   "metadata": {},
   "outputs": [
    {
     "data": {
      "text/plain": [
       "ChatPromptTemplate(input_variables=['customer_conetent', 'style'], output_parser=None, partial_variables={}, messages=[HumanMessagePromptTemplate(prompt=PromptTemplate(input_variables=['customer_conetent', 'style'], output_parser=None, partial_variables={}, template='\\n用指定的方式重新述说这段话，指定的方式是{style}\\n这段话：```{customer_conetent}```\\n', template_format='f-string', validate_template=True), additional_kwargs={})])"
      ]
     },
     "execution_count": 7,
     "metadata": {},
     "output_type": "execute_result"
    }
   ],
   "source": [
    "from langchain.prompts import ChatPromptTemplate, HumanMessagePromptTemplate\n",
    "\n",
    "human_template = HumanMessagePromptTemplate.from_template(template_string)\n",
    "prompt_template = ChatPromptTemplate.from_messages([human_template])\n",
    "\n",
    "prompt_template"
   ]
  },
  {
   "cell_type": "code",
   "execution_count": 8,
   "metadata": {},
   "outputs": [
    {
     "data": {
      "text/plain": [
       "['customer_conetent', 'style']"
      ]
     },
     "execution_count": 8,
     "metadata": {},
     "output_type": "execute_result"
    }
   ],
   "source": [
    "prompt_template.messages[0].prompt.input_variables"
   ]
  },
  {
   "attachments": {},
   "cell_type": "markdown",
   "metadata": {},
   "source": [
    "**`ChatPromptTemplate`没有`from_template`方法**\n",
    "\n",
    "注意在现在的版本`ChatPromptTemplate`是没有`from_template`这个方法的，因为`ChatPromptTemplate`需要`from_messages`来引入`system`和`user`两个角色。\n",
    "\n",
    "\n",
    "> ``` python\n",
    "> ChatPromptTemplate.from_template(template_string)\n",
    "> 报错如下：\n",
    "> AttributeError                            Traceback (most recent call last)\n",
    "> Cell In[13], line 1\n",
    "> ----> 1 ChatPromptTemplate.from_template(template_string)\n",
    "> AttributeError: type object 'ChatPromptTemplate' has no attribute 'from_template'\n",
    "> ```\n",
    "\n",
    "\n",
    "如果想用`from_template`方法可以替换成：\n",
    "\n",
    "```python\n",
    "from langchain.prompts import ChatMessagePromptTemplate\n",
    "ChatMessagePromptTemplate.from_template(role=\"user\", template=template_string)\n",
    "```"
   ]
  },
  {
   "cell_type": "code",
   "execution_count": 11,
   "metadata": {},
   "outputs": [],
   "source": [
    "customer_content = \"\"\"\n",
    "Langchain是一种基于区块链技术的语言交流平台，\\\n",
    "旨在为全球用户提供高效、安全、便捷的语言学习和交流服务。\\\n",
    "通过Langchain，用户可以选择自己感兴趣的语言进行学习，并与来自世界各地的语言学习者进行交流和互动。\\\n",
    "同时，Langchain还提供了一种去中心化的语言认证机制，可以帮助用户证明自己的语言水平，为未来的学习和职业发展打下基础。\n",
    "\"\"\"\n",
    "customer_style = \"简短、口语化\""
   ]
  },
  {
   "cell_type": "code",
   "execution_count": null,
   "metadata": {},
   "outputs": [],
   "source": [
    "from langchain.prompts import ChatMessagePromptTemplate\n",
    "\n",
    "chat([ChatMessagePromptTemplate.from_template(role=\"user\", template=template_string).format(customer_conetent=customer_content, style=customer_style)])"
   ]
  },
  {
   "cell_type": "code",
   "execution_count": 21,
   "metadata": {},
   "outputs": [
    {
     "data": {
      "text/plain": [
       "[HumanMessage(content='\\n用指定的方式重新述说这段话，指定的方式是简短、口语化\\n这段话：```\\nLangchain是一种基于区块链技术的语言交流平台，旨在为全球用户提供高效、安全、便捷的语言学习和交流服务。通过Langchain，用户可以选择自己感兴趣的语言进行学习，并与来自世界各地的语言学习者进行交流和互动。同时，Langchain还提供了一种去中心化的语言认证机制，可以帮助用户证明自己的语言水平，为未来的学习和职业发展打下基础。\\n```\\n', additional_kwargs={}, example=False)]"
      ]
     },
     "execution_count": 21,
     "metadata": {},
     "output_type": "execute_result"
    }
   ],
   "source": [
    "customer_messages = prompt_template.format_messages(customer_conetent=customer_content, style=customer_style)\n",
    "customer_messages"
   ]
  },
  {
   "cell_type": "code",
   "execution_count": 22,
   "metadata": {},
   "outputs": [
    {
     "data": {
      "text/plain": [
       "list"
      ]
     },
     "execution_count": 22,
     "metadata": {},
     "output_type": "execute_result"
    }
   ],
   "source": [
    "type(customer_messages)"
   ]
  },
  {
   "cell_type": "code",
   "execution_count": 23,
   "metadata": {},
   "outputs": [
    {
     "data": {
      "text/plain": [
       "langchain.schema.HumanMessage"
      ]
     },
     "execution_count": 23,
     "metadata": {},
     "output_type": "execute_result"
    }
   ],
   "source": [
    "type(customer_messages[0])"
   ]
  },
  {
   "cell_type": "code",
   "execution_count": 24,
   "metadata": {},
   "outputs": [],
   "source": [
    "customer_response = chat(customer_messages)"
   ]
  },
  {
   "cell_type": "code",
   "execution_count": 25,
   "metadata": {},
   "outputs": [
    {
     "data": {
      "text/plain": [
       "'Langchain是一个用区块链技术做的语言交流平台，让你可以高效、安全、方便地学习和交流语言。你可以选择自己感兴趣的语言学习，和来自世界各地的语言学习者互动。还有一个去中心化的语言认证机制，可以帮助你证明自己的语言水平，为未来的学习和职业发展打下基础。'"
      ]
     },
     "execution_count": 25,
     "metadata": {},
     "output_type": "execute_result"
    }
   ],
   "source": [
    "customer_response.content"
   ]
  },
  {
   "attachments": {},
   "cell_type": "markdown",
   "metadata": {},
   "source": [
    "#### Output Parsers"
   ]
  },
  {
   "cell_type": "code",
   "execution_count": 26,
   "metadata": {},
   "outputs": [
    {
     "data": {
      "text/plain": [
       "{'function': '笔记', 'create_time': '1991-01', 'user_number': 100}"
      ]
     },
     "execution_count": 26,
     "metadata": {},
     "output_type": "execute_result"
    }
   ],
   "source": [
    "{\n",
    "  \"function\": \"笔记\",\n",
    "  \"create_time\": '1991-01',\n",
    "  \"user_number\": 100\n",
    "}"
   ]
  },
  {
   "cell_type": "code",
   "execution_count": 27,
   "metadata": {},
   "outputs": [],
   "source": [
    "customer_review = \"\"\"\\\n",
    "Notion是一款集成了笔记、知识库、数据表格、看板、日历等多种能力于一体的应用程序，它支持个人用户单独使用，也可以与他人进行跨平台协作。\\\n",
    "Notion由Ivan Zhao、Simon Last于2016年（也有说2013年，独立由Simon Last）在旧金山创立的。\\\n",
    "截至2021年10月，Notion估值103亿美元，在全球拥有超2000万用户，团队规模为180人左右。\n",
    "\"\"\"\n",
    "\n",
    "review_template = \"\"\"\\\n",
    "根据文字提取下面的信息\n",
    "\n",
    "function: 这个产品的用途。如果这个信息找不到就显示未知。\n",
    "\n",
    "create_time: 这个产品的创建日期。如果这个信息找不到就显示-99。\n",
    "\n",
    "user_number: 到目前为止这个产品有多少用户在使用。如果找不到这个信息就返回-1。\n",
    "\n",
    "按照下面的keys将输出格式化为json:\n",
    "function\n",
    "create_time\n",
    "user_number\n",
    "\n",
    "text: {text}\n",
    "\"\"\""
   ]
  },
  {
   "cell_type": "code",
   "execution_count": 28,
   "metadata": {},
   "outputs": [
    {
     "data": {
      "text/plain": [
       "ChatPromptTemplate(input_variables=['text'], output_parser=None, partial_variables={}, messages=[HumanMessagePromptTemplate(prompt=PromptTemplate(input_variables=['text'], output_parser=None, partial_variables={}, template='根据文字提取下面的信息\\n\\nfunction: 这个产品的用途。如果这个信息找不到就显示未知。\\n\\ncreate_time: 这个产品的创建日期。如果这个信息找不到就显示-99。\\n\\nuser_number: 到目前为止这个产品有多少用户在使用。如果找不到这个信息就返回-1,=。\\n\\n按照下面的keys将输出格式化为json:\\nfunction\\ncreate_time\\nuser_number\\n\\ntext: {text}\\n', template_format='f-string', validate_template=True), additional_kwargs={})])"
      ]
     },
     "execution_count": 28,
     "metadata": {},
     "output_type": "execute_result"
    }
   ],
   "source": [
    "from langchain.prompts import ChatPromptTemplate, HumanMessagePromptTemplate\n",
    "\n",
    "prompt_template = ChatPromptTemplate.from_messages([HumanMessagePromptTemplate.from_template(review_template)])\n",
    "\n",
    "prompt_template"
   ]
  },
  {
   "cell_type": "code",
   "execution_count": 29,
   "metadata": {},
   "outputs": [
    {
     "name": "stdout",
     "output_type": "stream",
     "text": [
      "{\n",
      "  \"function\": \"集成了笔记、知识库、数据表格、看板、日历等多种能力于一体的应用程序，支持个人用户单独使用，也可以与他人进行跨平台协作。\",\n",
      "  \"create_time\": \"2016年\",\n",
      "  \"user_number\": \"超2000万\"\n",
      "}\n"
     ]
    }
   ],
   "source": [
    "messages = prompt_template.format_messages(text=customer_review)\n",
    "chat = ChatOpenAI(temperature=0.0)\n",
    "response = chat(messages)\n",
    "print(response.content)"
   ]
  },
  {
   "cell_type": "code",
   "execution_count": 30,
   "metadata": {},
   "outputs": [
    {
     "data": {
      "text/plain": [
       "str"
      ]
     },
     "execution_count": 30,
     "metadata": {},
     "output_type": "execute_result"
    }
   ],
   "source": [
    "type(response.content)"
   ]
  },
  {
   "attachments": {},
   "cell_type": "markdown",
   "metadata": {},
   "source": [
    "**通过`LangChain`的`Parsers`将字符串转换为python字典**"
   ]
  },
  {
   "cell_type": "code",
   "execution_count": 31,
   "metadata": {},
   "outputs": [],
   "source": [
    "from langchain.output_parsers import StructuredOutputParser, ResponseSchema"
   ]
  },
  {
   "cell_type": "code",
   "execution_count": 33,
   "metadata": {},
   "outputs": [
    {
     "data": {
      "text/plain": [
       "StructuredOutputParser(response_schemas=[ResponseSchema(name='function', description='这个产品的用途。如果这个信息找不到就显示未知'), ResponseSchema(name='create_time', description='这个产品的创建日期。如果这个信息找不到就显示-99'), ResponseSchema(name='user_number', description='到目前为止这个产品有多少用户在使用。如果找不到这个信息就返回-1')])"
      ]
     },
     "execution_count": 33,
     "metadata": {},
     "output_type": "execute_result"
    }
   ],
   "source": [
    "response_schemas = [\n",
    "    ResponseSchema(name='function', description='这个产品的用途。如果这个信息找不到就显示未知'),\n",
    "    ResponseSchema(name='create_time', description='这个产品的创建日期。如果这个信息找不到就显示-99'),\n",
    "    ResponseSchema(name='user_number', description='到目前为止这个产品有多少用户在使用。如果找不到这个信息就返回-1'),\n",
    "]\n",
    "output_parsers = StructuredOutputParser(response_schemas=response_schemas)\n",
    "output_parsers"
   ]
  },
  {
   "cell_type": "code",
   "execution_count": 35,
   "metadata": {},
   "outputs": [
    {
     "data": {
      "text/plain": [
       "'The output should be a markdown code snippet formatted in the following schema, including the leading and trailing \"\\\\`\\\\`\\\\`json\" and \"\\\\`\\\\`\\\\`\":\\n\\n```json\\n{\\n\\t\"function\": string  // 这个产品的用途。如果这个信息找不到就显示未知\\n\\t\"create_time\": string  // 这个产品的创建日期。如果这个信息找不到就显示-99\\n\\t\"user_number\": string  // 到目前为止这个产品有多少用户在使用。如果找不到这个信息就返回-1\\n}\\n```'"
      ]
     },
     "execution_count": 35,
     "metadata": {},
     "output_type": "execute_result"
    }
   ],
   "source": [
    "format_instructions = output_parsers.get_format_instructions()\n",
    "format_instructions"
   ]
  },
  {
   "cell_type": "code",
   "execution_count": 42,
   "metadata": {},
   "outputs": [],
   "source": [
    "prompt_template = ChatPromptTemplate(\n",
    "    messages=[HumanMessagePromptTemplate.from_template(review_template)], \n",
    "    input_variables=[\"text\"],\n",
    "    partial_variables={\"format_instructions\": format_instructions}\n",
    ")"
   ]
  },
  {
   "cell_type": "code",
   "execution_count": 49,
   "metadata": {},
   "outputs": [
    {
     "name": "stdout",
     "output_type": "stream",
     "text": [
      "{\n",
      "  \"function\": \"集成了笔记、知识库、数据表格、看板、日历等多种能力于一体的应用程序，支持个人用户单独使用，也可以与他人进行跨平台协作。\",\n",
      "  \"create_time\": \"2016年\",\n",
      "  \"user_number\": \"超2000万\"\n",
      "}\n"
     ]
    }
   ],
   "source": [
    "messages = prompt_template.format_messages(text=customer_review)\n",
    "chat = ChatOpenAI(temperature=0.0)\n",
    "response = chat(messages)\n",
    "print(response.content)"
   ]
  },
  {
   "cell_type": "code",
   "execution_count": 51,
   "metadata": {},
   "outputs": [
    {
     "ename": "OutputParserException",
     "evalue": "Got invalid return object. Expected markdown code snippet with JSON object, but got:\n{\n  \"function\": \"集成了笔记、知识库、数据表格、看板、日历等多种能力于一体的应用程序，支持个人用户单独使用，也可以与他人进行跨平台协作。\",\n  \"create_time\": \"2016年\",\n  \"user_number\": \"超2000万\"\n}",
     "output_type": "error",
     "traceback": [
      "\u001b[1;31m---------------------------------------------------------------------------\u001b[0m",
      "\u001b[1;31mOutputParserException\u001b[0m                     Traceback (most recent call last)",
      "Cell \u001b[1;32mIn[51], line 1\u001b[0m\n\u001b[1;32m----> 1\u001b[0m output_parsers\u001b[39m.\u001b[39;49mparse(response\u001b[39m.\u001b[39;49mcontent)\n",
      "File \u001b[1;32me:\\Anaconda3\\envs\\langchain\\lib\\site-packages\\langchain\\output_parsers\\structured.py:63\u001b[0m, in \u001b[0;36mStructuredOutputParser.parse\u001b[1;34m(self, text)\u001b[0m\n\u001b[0;32m     61\u001b[0m \u001b[39mdef\u001b[39;00m \u001b[39mparse\u001b[39m(\u001b[39mself\u001b[39m, text: \u001b[39mstr\u001b[39m) \u001b[39m-\u001b[39m\u001b[39m>\u001b[39m Any:\n\u001b[0;32m     62\u001b[0m     expected_keys \u001b[39m=\u001b[39m [rs\u001b[39m.\u001b[39mname \u001b[39mfor\u001b[39;00m rs \u001b[39min\u001b[39;00m \u001b[39mself\u001b[39m\u001b[39m.\u001b[39mresponse_schemas]\n\u001b[1;32m---> 63\u001b[0m     \u001b[39mreturn\u001b[39;00m parse_json_markdown(text, expected_keys)\n",
      "File \u001b[1;32me:\\Anaconda3\\envs\\langchain\\lib\\site-packages\\langchain\\output_parsers\\structured.py:27\u001b[0m, in \u001b[0;36mparse_json_markdown\u001b[1;34m(text, expected_keys)\u001b[0m\n\u001b[0;32m     25\u001b[0m \u001b[39mdef\u001b[39;00m \u001b[39mparse_json_markdown\u001b[39m(text: \u001b[39mstr\u001b[39m, expected_keys: List[\u001b[39mstr\u001b[39m]) \u001b[39m-\u001b[39m\u001b[39m>\u001b[39m Any:\n\u001b[0;32m     26\u001b[0m     \u001b[39mif\u001b[39;00m \u001b[39m\"\u001b[39m\u001b[39m```json\u001b[39m\u001b[39m\"\u001b[39m \u001b[39mnot\u001b[39;00m \u001b[39min\u001b[39;00m text:\n\u001b[1;32m---> 27\u001b[0m         \u001b[39mraise\u001b[39;00m OutputParserException(\n\u001b[0;32m     28\u001b[0m             \u001b[39mf\u001b[39m\u001b[39m\"\u001b[39m\u001b[39mGot invalid return object. Expected markdown code snippet with JSON \u001b[39m\u001b[39m\"\u001b[39m\n\u001b[0;32m     29\u001b[0m             \u001b[39mf\u001b[39m\u001b[39m\"\u001b[39m\u001b[39mobject, but got:\u001b[39m\u001b[39m\\n\u001b[39;00m\u001b[39m{\u001b[39;00mtext\u001b[39m}\u001b[39;00m\u001b[39m\"\u001b[39m\n\u001b[0;32m     30\u001b[0m         )\n\u001b[0;32m     32\u001b[0m     json_string \u001b[39m=\u001b[39m text\u001b[39m.\u001b[39msplit(\u001b[39m\"\u001b[39m\u001b[39m```json\u001b[39m\u001b[39m\"\u001b[39m)[\u001b[39m1\u001b[39m]\u001b[39m.\u001b[39mstrip()\u001b[39m.\u001b[39mstrip(\u001b[39m\"\u001b[39m\u001b[39m```\u001b[39m\u001b[39m\"\u001b[39m)\u001b[39m.\u001b[39mstrip()\n\u001b[0;32m     33\u001b[0m     \u001b[39mtry\u001b[39;00m:\n",
      "\u001b[1;31mOutputParserException\u001b[0m: Got invalid return object. Expected markdown code snippet with JSON object, but got:\n{\n  \"function\": \"集成了笔记、知识库、数据表格、看板、日历等多种能力于一体的应用程序，支持个人用户单独使用，也可以与他人进行跨平台协作。\",\n  \"create_time\": \"2016年\",\n  \"user_number\": \"超2000万\"\n}"
     ]
    }
   ],
   "source": [
    "output_parsers.parse(response.content)"
   ]
  },
  {
   "cell_type": "code",
   "execution_count": null,
   "metadata": {},
   "outputs": [],
   "source": []
  }
 ],
 "metadata": {
  "kernelspec": {
   "display_name": "langchain",
   "language": "python",
   "name": "python3"
  },
  "language_info": {
   "codemirror_mode": {
    "name": "ipython",
    "version": 3
   },
   "file_extension": ".py",
   "mimetype": "text/x-python",
   "name": "python",
   "nbconvert_exporter": "python",
   "pygments_lexer": "ipython3",
   "version": "3.9.16"
  },
  "orig_nbformat": 4
 },
 "nbformat": 4,
 "nbformat_minor": 2
}
